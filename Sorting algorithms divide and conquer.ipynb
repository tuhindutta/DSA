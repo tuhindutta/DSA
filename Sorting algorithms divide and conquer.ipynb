{
 "cells": [
  {
   "cell_type": "code",
   "execution_count": 165,
   "id": "e8295c5d-d718-4ed7-a08b-d7768f4d7039",
   "metadata": {},
   "outputs": [],
   "source": [
    "arr = [4,2,67,3,1,234,7,2,24,5,57]"
   ]
  },
  {
   "cell_type": "code",
   "execution_count": 166,
   "id": "42e8f51e-6038-403e-b4c0-135231ad5416",
   "metadata": {},
   "outputs": [],
   "source": [
    "class InefficientSorting:\n",
    "\n",
    "    def __init__(self, arr):\n",
    "        self.arr = arr\n",
    "\n",
    "    @staticmethod\n",
    "    def reverse(arr):\n",
    "        reversed = []\n",
    "        lastIdx = len(arr) - 1\n",
    "        while lastIdx >= 0:\n",
    "            reversed.append(arr[lastIdx])\n",
    "            lastIdx -= 1\n",
    "        return reversed\n",
    "\n",
    "    @staticmethod\n",
    "    def isSorted(arr):\n",
    "        element = arr[0]\n",
    "        for i in arr[1:]:\n",
    "            if i < element:\n",
    "                return False\n",
    "            element = i\n",
    "        return True\n",
    "\n",
    "    def bubbleSort(self):\n",
    "        arr = self.arr.copy()\n",
    "        lngth = len(arr) - 2\n",
    "        while not isSorted(arr):\n",
    "            idx = 0\n",
    "            while idx <= lngth:\n",
    "                a = arr[idx]\n",
    "                b = arr[idx+1]\n",
    "                if b < a:\n",
    "                    arr[idx] = b\n",
    "                    arr[idx+1] = a\n",
    "                idx += 1\n",
    "        return arr\n",
    "\n",
    "    def insertionSort(self):\n",
    "        arr = self.arr.copy()\n",
    "        for i in range(len(arr)):\n",
    "            cur = arr.pop(i)\n",
    "            j = i - 1\n",
    "            while (j >= 0) and (arr[j] > cur):\n",
    "                j -= 1\n",
    "            arr.insert(j+1, cur)\n",
    "        return arr"
   ]
  },
  {
   "cell_type": "code",
   "execution_count": 167,
   "id": "c591fbfe-5835-409b-a8db-869d36b18441",
   "metadata": {},
   "outputs": [],
   "source": [
    "st = InefficientSorting(arr)"
   ]
  },
  {
   "cell_type": "code",
   "execution_count": 168,
   "id": "1c153ae6-306f-4ee8-b23b-e605b77342e1",
   "metadata": {},
   "outputs": [
    {
     "data": {
      "text/plain": [
       "([1, 2, 2, 3, 4, 5, 7, 24, 57, 67, 234],\n",
       " [1, 2, 2, 3, 4, 5, 7, 24, 57, 67, 234])"
      ]
     },
     "execution_count": 168,
     "metadata": {},
     "output_type": "execute_result"
    }
   ],
   "source": [
    "st.bubbleSort(), st.insertionSort()"
   ]
  },
  {
   "cell_type": "code",
   "execution_count": null,
   "id": "b4fbb46f-3e3d-42af-8879-356adba8668d",
   "metadata": {},
   "outputs": [],
   "source": []
  },
  {
   "cell_type": "code",
   "execution_count": 373,
   "id": "e57d3e04-278e-41a9-ae09-b551f9463e41",
   "metadata": {},
   "outputs": [],
   "source": [
    "class Sort(InefficientSorting):\n",
    "\n",
    "    def __init__(self, arr):\n",
    "        super().__init__(arr)\n",
    "\n",
    "    @classmethod\n",
    "    def _comparison(cls, x, y):\n",
    "        if y > x:\n",
    "            return 'greater'\n",
    "        elif x == y:\n",
    "            return 'equal'\n",
    "        elif y < x:\n",
    "            return 'lesser'\n",
    "\n",
    "    @classmethod\n",
    "    def _merge(cls, arr1, arr2, compare):\n",
    "        merged = []\n",
    "        i,j = 0,0\n",
    "        while (i < len(arr1)) and (j < len(arr2)):\n",
    "            comparison = compare(arr1[i], arr2[j])\n",
    "            if (comparison == 'greater') or (comparison == 'equal'):\n",
    "                merged.append(arr1[i])\n",
    "                i += 1\n",
    "            else:\n",
    "                merged.append(arr2[j])\n",
    "                j += 1\n",
    "    \n",
    "        arr1_tail = arr1[i:]\n",
    "        arr2_tail = arr2[j:]\n",
    "    \n",
    "        return merged + arr1_tail + arr2_tail\n",
    "\n",
    "    def _mergeSort(self, arr, compare):\n",
    "        if not compare:\n",
    "            compare = self._comparison\n",
    "        if len(arr) <= 1:\n",
    "            return arr\n",
    "        mid = len(arr)//2\n",
    "        left = self._mergeSort(arr[:mid], compare)\n",
    "        right = self._mergeSort(arr[mid:], compare)\n",
    "        merged = self._merge(left, right, compare)\n",
    "        return merged\n",
    "\n",
    "    def mergeSort(self, compare = None):\n",
    "        arr = self.arr.copy()\n",
    "        return self._mergeSort(arr, compare)\n",
    "\n",
    "    @staticmethod\n",
    "    def pivotElement(array):\n",
    "        arr = array.copy()\n",
    "        if condition == 'last':\n",
    "            pivot = arr.pop(-1)\n",
    "        elif condition == 'first':\n",
    "            pivot = arr.pop(0)\n",
    "        elif condition == 'random':\n",
    "            pivot = arr.pop(random.choice(len(arr)-1))\n",
    "        return pivot\n",
    "\n",
    "    def _quickSort(self, arr, compare, condition):\n",
    "        if not compare:\n",
    "            compare = self._comparison\n",
    "        if len(arr) <= 1:\n",
    "            return arr\n",
    "        pivot = pivotElement(arr, condition)\n",
    "        pivot_occur = len([i for i in arr if compare(i,pivot)=='equal'])\n",
    "        left = self._quickSort([i for i in arr if compare(i,pivot)=='greater'], compare, condition)\n",
    "        right = self._quickSort([i for i in arr if compare(i, pivot)=='lesser'], compare, condition)\n",
    "        return left + [pivot]*pivot_occur + right\n",
    "\n",
    "    def quickSort(self, compare=None, pivot_condition='last'):\n",
    "        arr = self.arr.copy()\n",
    "        return self._quickSort(self.arr, compare, pivot_condition)"
   ]
  },
  {
   "cell_type": "code",
   "execution_count": 374,
   "id": "5f379e00-4308-4fa6-9e1b-2d237674a3ad",
   "metadata": {},
   "outputs": [],
   "source": [
    "st = Sort(arr)"
   ]
  },
  {
   "cell_type": "code",
   "execution_count": 375,
   "id": "e247fa92-d114-48df-bd43-d0753041bae9",
   "metadata": {},
   "outputs": [
    {
     "data": {
      "text/plain": [
       "[234, 67, 57, 24, 7, 7, 7, 5, 4, 3, 3, 2, 2, 1]"
      ]
     },
     "execution_count": 375,
     "metadata": {},
     "output_type": "execute_result"
    }
   ],
   "source": [
    "st.reverse(st.mergeSort())"
   ]
  },
  {
   "cell_type": "code",
   "execution_count": 376,
   "id": "6fc9a56e-045b-4272-8035-58b905628ba9",
   "metadata": {},
   "outputs": [],
   "source": [
    "arr3 = list(range(1000000))\n",
    "random.shuffle(arr3)"
   ]
  },
  {
   "cell_type": "code",
   "execution_count": 379,
   "id": "2fec4d05-5f5f-406b-a745-794d2d796f3b",
   "metadata": {},
   "outputs": [
    {
     "name": "stdout",
     "output_type": "stream",
     "text": [
      "CPU times: total: 10.8 s\n",
      "Wall time: 12.4 s\n"
     ]
    }
   ],
   "source": [
    "%%time\n",
    "srtd = Sort(arr3).quickSort()"
   ]
  },
  {
   "cell_type": "code",
   "execution_count": 378,
   "id": "4358bb9c-7072-4e7e-a924-63e4bb39641c",
   "metadata": {},
   "outputs": [
    {
     "name": "stdout",
     "output_type": "stream",
     "text": [
      "CPU times: total: 5.62 s\n",
      "Wall time: 6.06 s\n"
     ]
    }
   ],
   "source": [
    "%%time\n",
    "srtd = Sort(arr3).mergeSort()"
   ]
  },
  {
   "cell_type": "code",
   "execution_count": 380,
   "id": "eeb0365a-953d-4678-9efe-5ae8245938dc",
   "metadata": {},
   "outputs": [],
   "source": [
    "class Notebook:\n",
    "\n",
    "    notebooks = []\n",
    "\n",
    "    def __init__(self, title, username, likes):\n",
    "        self.title, self.username, self.likes = title, username, likes\n",
    "\n",
    "    def __repr__(self):\n",
    "        return \"Notebook <'{}/{}', {} likes>\".format(self.username, self.title, self.likes)\n",
    "\n",
    "    @classmethod\n",
    "    def create(cls, df:pd.DataFrame):\n",
    "        for row in range(len(df)):\n",
    "            title = df.iloc[row, 0]\n",
    "            username = df.iloc[row, 1]\n",
    "            likes = df.iloc[row, 2]\n",
    "            instance = cls(title, username, likes)\n",
    "            cls.notebooks.append(instance)\n",
    "\n",
    "    @classmethod\n",
    "    def clearClassNotebooks(cls):\n",
    "        cls.notebooks = []"
   ]
  },
  {
   "cell_type": "code",
   "execution_count": 381,
   "id": "c5b56fbf-bad4-4799-b51f-5fc8bd6de81a",
   "metadata": {},
   "outputs": [],
   "source": [
    "import pandas as pd\n",
    "df = pd.read_csv('data.csv')\n",
    "\n",
    "Notebook.create(df)\n",
    "notebooks = Notebook.notebooks\n",
    "Notebook.clearClassNotebooks()"
   ]
  },
  {
   "cell_type": "code",
   "execution_count": 382,
   "id": "1ecb86c2-2586-4dbc-93ca-a9b39ba52ad9",
   "metadata": {},
   "outputs": [
    {
     "data": {
      "text/plain": [
       "[Notebook <'aakashns/pytorch-basics', 373 likes>,\n",
       " Notebook <'siddhant/linear-regression', 532 likes>,\n",
       " Notebook <'vikas/logistic-regression', 31 likes>,\n",
       " Notebook <'sonaksh/feedforward-nn', 94 likes>,\n",
       " Notebook <'biraj/cifar10-cnn', 2 likes>,\n",
       " Notebook <'tanya/cifar10-resnet', 29 likes>,\n",
       " Notebook <'hemanth/anime-gans', 80 likes>,\n",
       " Notebook <'vishal/python-fundamentals', 136 likes>,\n",
       " Notebook <'aakashns/python-functions', 74 likes>,\n",
       " Notebook <'siddhant/python-numpy', 92 likes>]"
      ]
     },
     "execution_count": 382,
     "metadata": {},
     "output_type": "execute_result"
    }
   ],
   "source": [
    "notebooks"
   ]
  },
  {
   "cell_type": "code",
   "execution_count": 383,
   "id": "1997e7f0-fc0e-4cfe-b51e-863ea75a207e",
   "metadata": {},
   "outputs": [],
   "source": [
    "def compare_likes(nb1, nb2):\n",
    "    if nb1.likes > nb2.likes:\n",
    "        return 'lesser'\n",
    "    elif nb1.likes == nb2.likes:\n",
    "        return 'equal'\n",
    "    elif nb1.likes < nb2.likes:\n",
    "        return 'greater'"
   ]
  },
  {
   "cell_type": "code",
   "execution_count": null,
   "id": "fcfe14cc-7f20-4799-8b27-1d9cbce45d36",
   "metadata": {},
   "outputs": [],
   "source": []
  },
  {
   "cell_type": "code",
   "execution_count": 384,
   "id": "06785b9f-5aef-4ddf-abd2-6756d29a78d0",
   "metadata": {},
   "outputs": [],
   "source": [
    "st2 = Sort(notebooks)"
   ]
  },
  {
   "cell_type": "code",
   "execution_count": 385,
   "id": "b9d49d20-3f5b-434b-b4f7-97d4df371cef",
   "metadata": {},
   "outputs": [
    {
     "data": {
      "text/plain": [
       "[Notebook <'aakashns/pytorch-basics', 373 likes>,\n",
       " Notebook <'siddhant/linear-regression', 532 likes>,\n",
       " Notebook <'vikas/logistic-regression', 31 likes>,\n",
       " Notebook <'sonaksh/feedforward-nn', 94 likes>,\n",
       " Notebook <'biraj/cifar10-cnn', 2 likes>,\n",
       " Notebook <'tanya/cifar10-resnet', 29 likes>,\n",
       " Notebook <'hemanth/anime-gans', 80 likes>,\n",
       " Notebook <'vishal/python-fundamentals', 136 likes>,\n",
       " Notebook <'aakashns/python-functions', 74 likes>,\n",
       " Notebook <'siddhant/python-numpy', 92 likes>]"
      ]
     },
     "execution_count": 385,
     "metadata": {},
     "output_type": "execute_result"
    }
   ],
   "source": [
    "st2.arr"
   ]
  },
  {
   "cell_type": "code",
   "execution_count": 386,
   "id": "4c7ac390-2198-4d6c-b714-4261ea46128b",
   "metadata": {},
   "outputs": [
    {
     "data": {
      "text/plain": [
       "[Notebook <'biraj/cifar10-cnn', 2 likes>,\n",
       " Notebook <'tanya/cifar10-resnet', 29 likes>,\n",
       " Notebook <'vikas/logistic-regression', 31 likes>,\n",
       " Notebook <'aakashns/python-functions', 74 likes>,\n",
       " Notebook <'hemanth/anime-gans', 80 likes>,\n",
       " Notebook <'siddhant/python-numpy', 92 likes>,\n",
       " Notebook <'sonaksh/feedforward-nn', 94 likes>,\n",
       " Notebook <'vishal/python-fundamentals', 136 likes>,\n",
       " Notebook <'aakashns/pytorch-basics', 373 likes>,\n",
       " Notebook <'siddhant/linear-regression', 532 likes>]"
      ]
     },
     "execution_count": 386,
     "metadata": {},
     "output_type": "execute_result"
    }
   ],
   "source": [
    "st2.mergeSort(compare_likes)"
   ]
  },
  {
   "cell_type": "code",
   "execution_count": 387,
   "id": "d5961faf-2994-4acd-9b3d-601cfe0429cc",
   "metadata": {},
   "outputs": [
    {
     "data": {
      "text/plain": [
       "[Notebook <'biraj/cifar10-cnn', 2 likes>,\n",
       " Notebook <'tanya/cifar10-resnet', 29 likes>,\n",
       " Notebook <'vikas/logistic-regression', 31 likes>,\n",
       " Notebook <'aakashns/python-functions', 74 likes>,\n",
       " Notebook <'hemanth/anime-gans', 80 likes>,\n",
       " Notebook <'siddhant/python-numpy', 92 likes>,\n",
       " Notebook <'sonaksh/feedforward-nn', 94 likes>,\n",
       " Notebook <'vishal/python-fundamentals', 136 likes>,\n",
       " Notebook <'aakashns/pytorch-basics', 373 likes>,\n",
       " Notebook <'siddhant/linear-regression', 532 likes>]"
      ]
     },
     "execution_count": 387,
     "metadata": {},
     "output_type": "execute_result"
    }
   ],
   "source": [
    "st2.quickSort(compare_likes)"
   ]
  },
  {
   "cell_type": "code",
   "execution_count": null,
   "id": "3a011637-e0cb-49a2-9ae6-200a41ad1bc1",
   "metadata": {},
   "outputs": [],
   "source": []
  }
 ],
 "metadata": {
  "kernelspec": {
   "display_name": "Python 3 (ipykernel)",
   "language": "python",
   "name": "python3"
  },
  "language_info": {
   "codemirror_mode": {
    "name": "ipython",
    "version": 3
   },
   "file_extension": ".py",
   "mimetype": "text/x-python",
   "name": "python",
   "nbconvert_exporter": "python",
   "pygments_lexer": "ipython3",
   "version": "3.11.8"
  }
 },
 "nbformat": 4,
 "nbformat_minor": 5
}
