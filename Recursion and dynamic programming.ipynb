{
 "cells": [
  {
   "cell_type": "code",
   "execution_count": null,
   "id": "63c6a96a-7739-4f40-a1c7-e81b323f36ab",
   "metadata": {},
   "outputs": [],
   "source": []
  },
  {
   "cell_type": "code",
   "execution_count": 262,
   "id": "d4ba9b53-7b58-4693-82ea-5ad6f514cc09",
   "metadata": {},
   "outputs": [],
   "source": [
    "import pandas as pd, numpy as np"
   ]
  },
  {
   "cell_type": "code",
   "execution_count": null,
   "id": "2ffbbbaa-1c33-4f2f-b57b-9d3ac0436179",
   "metadata": {},
   "outputs": [],
   "source": []
  },
  {
   "cell_type": "markdown",
   "id": "1d2d6961-2308-4b87-8101-1796b818b235",
   "metadata": {},
   "source": [
    "# Longest Subsequence problem"
   ]
  },
  {
   "cell_type": "code",
   "execution_count": 250,
   "id": "50b7f317-2584-44aa-815a-4abc864eb315",
   "metadata": {},
   "outputs": [],
   "source": [
    "st1 = 'AGACTGTC'\n",
    "st2 = 'TAGTCACG'"
   ]
  },
  {
   "cell_type": "code",
   "execution_count": 47,
   "id": "21b8a81a-33c7-4472-b85e-816f745dc5ce",
   "metadata": {},
   "outputs": [],
   "source": [
    "def longestSubSequence(st1, st2, idx1 = 0, idx2 = 0):\n",
    "    if (idx1 == len(st1)) or (idx2 == len(st2)):\n",
    "        return 0\n",
    "    elif st1[idx1] == st2[idx2]:\n",
    "        return 1 + longestSubSequence(st1, st2, idx1+1, idx2+1)\n",
    "    else:\n",
    "        option1 = longestSubSequence(st1, st2, idx1+1, idx2)\n",
    "        option2 = longestSubSequence(st1, st2, idx1, idx2+1)\n",
    "        return max(option1, option2)"
   ]
  },
  {
   "cell_type": "code",
   "execution_count": 49,
   "id": "9e6c48b2-096d-4395-9e45-8650803cf182",
   "metadata": {},
   "outputs": [],
   "source": [
    "def longestSubSequence_memoization(seq1, seq2):\n",
    "    memo = {}\n",
    "    def recurse(idx1=0, idx2=0):\n",
    "        key = (idx1, idx2)\n",
    "        if key in memo:\n",
    "            return memo[key]\n",
    "        elif (idx1==len(seq1)) or (idx2==len(seq2)):\n",
    "            memo[key] = 0\n",
    "        elif seq1[idx1] == seq2[idx2]:\n",
    "            memo[key] = 1 + recurse(idx1+1, idx2+1)\n",
    "        else:\n",
    "            memo[key] = max(recurse(idx1+1, idx2), recurse(idx1, idx2+1))\n",
    "        return memo[key]\n",
    "    return recurse(0,0)"
   ]
  },
  {
   "cell_type": "code",
   "execution_count": 258,
   "id": "67e95164-fcfb-46ac-baf6-7c2ae4cfd5c2",
   "metadata": {},
   "outputs": [],
   "source": [
    "def longestSubsequenceUsingDynProg(st1, st2):\n",
    "    cols = '_'+st1\n",
    "    rows = '_'+st2\n",
    "    arr = np.zeros((len(rows), len(cols)))\n",
    "    df = pd.DataFrame(arr, index=list(rows), columns=list(cols))\n",
    "    \n",
    "    cols = list(df.columns)\n",
    "    rows = list(df.index)\n",
    "    \n",
    "    for row in range(len(rows)-1):\n",
    "        for col in range(len(cols)-1):\n",
    "        \n",
    "            if rows[row] == cols[col]:\n",
    "                df.iloc[row+1, col+1] = 1 + df.iloc[row, col]\n",
    "            else:\n",
    "                 df.iloc[row+1, col+1] = max(df.iloc[row, col+1], df.iloc[row+1, col])\n",
    "    return df.iloc[-1,-1], df"
   ]
  },
  {
   "cell_type": "code",
   "execution_count": 259,
   "id": "f0aebb0b-317a-4289-a67d-5ebc9c20d518",
   "metadata": {},
   "outputs": [],
   "source": [
    "res, df = longestSubsequenceUsingDynProg(st1, st2)"
   ]
  },
  {
   "cell_type": "code",
   "execution_count": 260,
   "id": "43add993-dc50-44fb-9106-90c9a810e4f8",
   "metadata": {},
   "outputs": [
    {
     "data": {
      "text/plain": [
       "5.0"
      ]
     },
     "execution_count": 260,
     "metadata": {},
     "output_type": "execute_result"
    }
   ],
   "source": [
    "res"
   ]
  },
  {
   "cell_type": "code",
   "execution_count": 261,
   "id": "75906ee7-cd41-4ef3-8b29-c0d24cd88233",
   "metadata": {},
   "outputs": [
    {
     "data": {
      "text/html": [
       "<div>\n",
       "<style scoped>\n",
       "    .dataframe tbody tr th:only-of-type {\n",
       "        vertical-align: middle;\n",
       "    }\n",
       "\n",
       "    .dataframe tbody tr th {\n",
       "        vertical-align: top;\n",
       "    }\n",
       "\n",
       "    .dataframe thead th {\n",
       "        text-align: right;\n",
       "    }\n",
       "</style>\n",
       "<table border=\"1\" class=\"dataframe\">\n",
       "  <thead>\n",
       "    <tr style=\"text-align: right;\">\n",
       "      <th></th>\n",
       "      <th>_</th>\n",
       "      <th>A</th>\n",
       "      <th>G</th>\n",
       "      <th>A</th>\n",
       "      <th>C</th>\n",
       "      <th>T</th>\n",
       "      <th>G</th>\n",
       "      <th>T</th>\n",
       "      <th>C</th>\n",
       "    </tr>\n",
       "  </thead>\n",
       "  <tbody>\n",
       "    <tr>\n",
       "      <th>_</th>\n",
       "      <td>0.0</td>\n",
       "      <td>0.0</td>\n",
       "      <td>0.0</td>\n",
       "      <td>0.0</td>\n",
       "      <td>0.0</td>\n",
       "      <td>0.0</td>\n",
       "      <td>0.0</td>\n",
       "      <td>0.0</td>\n",
       "      <td>0.0</td>\n",
       "    </tr>\n",
       "    <tr>\n",
       "      <th>T</th>\n",
       "      <td>0.0</td>\n",
       "      <td>1.0</td>\n",
       "      <td>1.0</td>\n",
       "      <td>1.0</td>\n",
       "      <td>1.0</td>\n",
       "      <td>1.0</td>\n",
       "      <td>1.0</td>\n",
       "      <td>1.0</td>\n",
       "      <td>1.0</td>\n",
       "    </tr>\n",
       "    <tr>\n",
       "      <th>A</th>\n",
       "      <td>0.0</td>\n",
       "      <td>1.0</td>\n",
       "      <td>1.0</td>\n",
       "      <td>1.0</td>\n",
       "      <td>1.0</td>\n",
       "      <td>1.0</td>\n",
       "      <td>2.0</td>\n",
       "      <td>2.0</td>\n",
       "      <td>2.0</td>\n",
       "    </tr>\n",
       "    <tr>\n",
       "      <th>G</th>\n",
       "      <td>0.0</td>\n",
       "      <td>1.0</td>\n",
       "      <td>2.0</td>\n",
       "      <td>2.0</td>\n",
       "      <td>2.0</td>\n",
       "      <td>2.0</td>\n",
       "      <td>2.0</td>\n",
       "      <td>2.0</td>\n",
       "      <td>2.0</td>\n",
       "    </tr>\n",
       "    <tr>\n",
       "      <th>T</th>\n",
       "      <td>0.0</td>\n",
       "      <td>1.0</td>\n",
       "      <td>2.0</td>\n",
       "      <td>3.0</td>\n",
       "      <td>3.0</td>\n",
       "      <td>3.0</td>\n",
       "      <td>3.0</td>\n",
       "      <td>3.0</td>\n",
       "      <td>3.0</td>\n",
       "    </tr>\n",
       "    <tr>\n",
       "      <th>C</th>\n",
       "      <td>0.0</td>\n",
       "      <td>1.0</td>\n",
       "      <td>2.0</td>\n",
       "      <td>3.0</td>\n",
       "      <td>3.0</td>\n",
       "      <td>3.0</td>\n",
       "      <td>4.0</td>\n",
       "      <td>4.0</td>\n",
       "      <td>4.0</td>\n",
       "    </tr>\n",
       "    <tr>\n",
       "      <th>A</th>\n",
       "      <td>0.0</td>\n",
       "      <td>1.0</td>\n",
       "      <td>2.0</td>\n",
       "      <td>3.0</td>\n",
       "      <td>3.0</td>\n",
       "      <td>4.0</td>\n",
       "      <td>4.0</td>\n",
       "      <td>4.0</td>\n",
       "      <td>4.0</td>\n",
       "    </tr>\n",
       "    <tr>\n",
       "      <th>C</th>\n",
       "      <td>0.0</td>\n",
       "      <td>1.0</td>\n",
       "      <td>2.0</td>\n",
       "      <td>3.0</td>\n",
       "      <td>4.0</td>\n",
       "      <td>4.0</td>\n",
       "      <td>4.0</td>\n",
       "      <td>4.0</td>\n",
       "      <td>4.0</td>\n",
       "    </tr>\n",
       "    <tr>\n",
       "      <th>G</th>\n",
       "      <td>0.0</td>\n",
       "      <td>1.0</td>\n",
       "      <td>2.0</td>\n",
       "      <td>3.0</td>\n",
       "      <td>4.0</td>\n",
       "      <td>5.0</td>\n",
       "      <td>5.0</td>\n",
       "      <td>5.0</td>\n",
       "      <td>5.0</td>\n",
       "    </tr>\n",
       "  </tbody>\n",
       "</table>\n",
       "</div>"
      ],
      "text/plain": [
       "     _    A    G    A    C    T    G    T    C\n",
       "_  0.0  0.0  0.0  0.0  0.0  0.0  0.0  0.0  0.0\n",
       "T  0.0  1.0  1.0  1.0  1.0  1.0  1.0  1.0  1.0\n",
       "A  0.0  1.0  1.0  1.0  1.0  1.0  2.0  2.0  2.0\n",
       "G  0.0  1.0  2.0  2.0  2.0  2.0  2.0  2.0  2.0\n",
       "T  0.0  1.0  2.0  3.0  3.0  3.0  3.0  3.0  3.0\n",
       "C  0.0  1.0  2.0  3.0  3.0  3.0  4.0  4.0  4.0\n",
       "A  0.0  1.0  2.0  3.0  3.0  4.0  4.0  4.0  4.0\n",
       "C  0.0  1.0  2.0  3.0  4.0  4.0  4.0  4.0  4.0\n",
       "G  0.0  1.0  2.0  3.0  4.0  5.0  5.0  5.0  5.0"
      ]
     },
     "execution_count": 261,
     "metadata": {},
     "output_type": "execute_result"
    }
   ],
   "source": [
    "df"
   ]
  },
  {
   "cell_type": "code",
   "execution_count": null,
   "id": "6138ef8b-332d-4807-98ca-9658b9e2d44e",
   "metadata": {},
   "outputs": [],
   "source": []
  },
  {
   "cell_type": "code",
   "execution_count": 238,
   "id": "aef0a192-876f-4329-9dd0-a4920f7215dc",
   "metadata": {},
   "outputs": [],
   "source": []
  },
  {
   "cell_type": "code",
   "execution_count": 239,
   "id": "12625118-0a36-4444-8278-607bb0b8ed02",
   "metadata": {},
   "outputs": [],
   "source": []
  },
  {
   "cell_type": "code",
   "execution_count": 240,
   "id": "a8779141-35a9-4534-97c1-3083a387d968",
   "metadata": {},
   "outputs": [],
   "source": []
  },
  {
   "cell_type": "markdown",
   "id": "5853bb18-554a-4289-9842-e2c6b598a1c7",
   "metadata": {},
   "source": [
    "# Knapsack problem"
   ]
  },
  {
   "cell_type": "code",
   "execution_count": 268,
   "id": "b66f0500-0ed8-484a-ab35-1c5d1cf3c2d6",
   "metadata": {},
   "outputs": [],
   "source": [
    "def max_profit_recursive(weights, profits, capacity, idx=0):\n",
    "    if idx == len(weights):\n",
    "        return 0\n",
    "    elif weights[idx] > capacity:\n",
    "        return max_profit_recursive(weights, profits, capacity, idx+1)\n",
    "    else:\n",
    "        option1 = max_profit_recursive(weights, profits, capacity, idx+1)\n",
    "        option2 = profits[idx] + max_profit_recursive(weights, profits, capacity-weights[idx], idx+1)\n",
    "        return max(option1, option2)"
   ]
  },
  {
   "cell_type": "code",
   "execution_count": 269,
   "id": "84087b3d-ea66-495c-a829-09109a1b8c57",
   "metadata": {},
   "outputs": [
    {
     "data": {
      "text/plain": [
       "{'input': {'capacity': 165,\n",
       "  'weights': [23, 31, 29, 44, 53, 38, 63, 85, 89, 82],\n",
       "  'profits': [92, 57, 49, 68, 60, 43, 67, 84, 87, 72]},\n",
       " 'output': 309}"
      ]
     },
     "execution_count": 269,
     "metadata": {},
     "output_type": "execute_result"
    }
   ],
   "source": [
    "test = dict(\n",
    "    input = dict(\n",
    "        capacity = 165,\n",
    "        weights = [23, 31, 29, 44, 53, 38, 63, 85, 89, 82],\n",
    "        profits = [92, 57, 49, 68, 60, 43, 67, 84, 87, 72]\n",
    "    ),\n",
    "    output = 309\n",
    ")\n",
    "test"
   ]
  },
  {
   "cell_type": "code",
   "execution_count": 271,
   "id": "0aa45d7a-02a6-4321-8944-483192248d6a",
   "metadata": {},
   "outputs": [
    {
     "data": {
      "text/plain": [
       "309"
      ]
     },
     "execution_count": 271,
     "metadata": {},
     "output_type": "execute_result"
    }
   ],
   "source": [
    "max_profit_recursive(**test['input'])"
   ]
  },
  {
   "cell_type": "code",
   "execution_count": 282,
   "id": "f81205c0-39c8-4240-ace7-f9383d83cbba",
   "metadata": {},
   "outputs": [],
   "source": [
    "def max_profit_dynProg(weights, profits, capacity):\n",
    "    n = len(weights)\n",
    "    table = [[0 for _ in range(capacity+1)] for _ in range(n+1)]\n",
    "    for i in range(n):\n",
    "        for c in range(1, capacity+1):\n",
    "            if weights[i] > c:\n",
    "                table[i+1][c] = table[i][c]\n",
    "            else:\n",
    "                table[i+1][c] = max(table[i][c],\n",
    "                                   profits[i] + table[i][c-weights[i]])\n",
    "    return table[-1][-1]"
   ]
  },
  {
   "cell_type": "code",
   "execution_count": 283,
   "id": "eeaf75e7-0023-4d06-b379-36ddce9338b6",
   "metadata": {},
   "outputs": [
    {
     "data": {
      "text/plain": [
       "309"
      ]
     },
     "execution_count": 283,
     "metadata": {},
     "output_type": "execute_result"
    }
   ],
   "source": [
    "max_profit_dynProg(**test['input'])"
   ]
  },
  {
   "cell_type": "code",
   "execution_count": null,
   "id": "e7024949-c408-45ce-8566-8c630f75d6ae",
   "metadata": {},
   "outputs": [],
   "source": []
  }
 ],
 "metadata": {
  "kernelspec": {
   "display_name": "Python 3 (ipykernel)",
   "language": "python",
   "name": "python3"
  },
  "language_info": {
   "codemirror_mode": {
    "name": "ipython",
    "version": 3
   },
   "file_extension": ".py",
   "mimetype": "text/x-python",
   "name": "python",
   "nbconvert_exporter": "python",
   "pygments_lexer": "ipython3",
   "version": "3.11.8"
  }
 },
 "nbformat": 4,
 "nbformat_minor": 5
}
