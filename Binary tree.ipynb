{
 "cells": [
  {
   "cell_type": "code",
   "execution_count": 1,
   "id": "190f00bb-df09-4e6a-8b5a-807003ed4843",
   "metadata": {},
   "outputs": [],
   "source": [
    "class BinarySearch:\n",
    "\n",
    "    def __init__(self, arr):\n",
    "        self.arr = arr\n",
    "\n",
    "    def search(self, query):\n",
    "        lo, hi = 0, len(self.arr)-1\n",
    "\n",
    "        while True:\n",
    "            mid = (lo+hi)//2\n",
    "            mid_element = self.arr[mid]\n",
    "            if mid_element == query:\n",
    "                return mid\n",
    "            elif mid_element > query:\n",
    "                hi = mid-1\n",
    "            elif mid_element < query:\n",
    "                lo = mid+1\n",
    "    \n",
    "        return -1\n",
    "\n",
    "\n",
    "    def searchFirst(self, query):\n",
    "\n",
    "        lo, hi = 0, len(self.arr)-1\n",
    "    \n",
    "        while True:\n",
    "            mid = (lo+hi)//2\n",
    "            mid_element = self.arr[mid]\n",
    "            if (mid_element == query) and ((self.arr[mid+1] != query) or (self.arr[mid-1] != query)):\n",
    "                return mid\n",
    "            elif mid_element > query:\n",
    "                hi = mid-1\n",
    "            elif mid_element < query:\n",
    "                lo = mid+1\n",
    "            else:\n",
    "                hi = mid-1\n",
    "    \n",
    "        return -1\n",
    "\n",
    "\n",
    "\n",
    "    def searchLast(self, query):\n",
    "    \n",
    "        lo, hi = 0, len(self.arr)-1\n",
    "    \n",
    "        while True:\n",
    "            mid = (lo+hi)//2\n",
    "            mid_element = self.arr[mid]\n",
    "            if (mid_element == query) and ((self.arr[mid+1] != query) or (self.arr[mid-1] != query)):\n",
    "                return mid\n",
    "            elif mid_element > query:\n",
    "                hi = mid-1\n",
    "            elif mid_element < query:\n",
    "                lo = mid+1\n",
    "            else:\n",
    "                lo = mid+1\n",
    "    \n",
    "        return -1 \n",
    "\n",
    "    \n",
    "    def searchFirstAndLast(self, query):\n",
    "        return self.searchFirst(query), self.searchLast(query)"
   ]
  },
  {
   "cell_type": "code",
   "execution_count": 2,
   "id": "3b82adc6-e5ef-4ff9-8bcc-4c4f789926a6",
   "metadata": {},
   "outputs": [],
   "source": [
    "class Rotation:\n",
    "\n",
    "    def __init__(self, arr):\n",
    "        self.arr = arr\n",
    "        # self.rotated = len(arr) + 1 - self.fix()\n",
    "\n",
    "    def rotate(self, n=1):\n",
    "        for _ in range(n):\n",
    "            self.arr = [self.arr[-1]] + self.arr[:-1]\n",
    "\n",
    "    def isSorted(self):\n",
    "        sortedFlag = True\n",
    "        firstElement = self.arr[0]\n",
    "        for num in self.arr[1:]:\n",
    "            if num < firstElement:\n",
    "                sortedFlag = False\n",
    "                break\n",
    "            firstElement = num\n",
    "        return sortedFlag\n",
    "\n",
    "    \n",
    "    def fix(self):\n",
    "        counter = 0 if self.isSorted() else 1\n",
    "        \n",
    "        # counter = 1\n",
    "        while not self.isSorted():\n",
    "            self.rotate()\n",
    "            counter += 1\n",
    "        rotated = 0 if counter==0 else len(self.arr) + 1 - counter\n",
    "        return dict(rotationToFix = counter, initiallyRotated = rotated)\n",
    "\n",
    "\n",
    "    def count_rotations_linear(self):\n",
    "        position = 0\n",
    "        while position < len(self.arr):\n",
    "            if (position > 0) and (self.arr[position] < self.arr[position-1]):\n",
    "                return position\n",
    "            position += 1\n",
    "        return 0\n",
    "\n",
    "    def count_binary_search(self):\n",
    "        lo, hi = 0, len(self.arr)-1\n",
    "        while lo < hi:\n",
    "            mid = (lo+hi)//2\n",
    "            middle_element = self.arr[mid]\n",
    "            if (middle_element < self.arr[mid-1]):\n",
    "                return mid\n",
    "            elif (middle_element > self.arr[mid-1]) and (middle_element > self.arr[-1]):\n",
    "                lo = mid + 1\n",
    "            elif (middle_element > self.arr[mid-1]) and (middle_element < self.arr[-1]):\n",
    "                hi = mid - 1\n",
    "        return 0"
   ]
  },
  {
   "cell_type": "code",
   "execution_count": 3,
   "id": "e364cc8f-6ea0-4f4f-bda5-2ef6e4ea2d89",
   "metadata": {},
   "outputs": [],
   "source": [
    "class User:\n",
    "\n",
    "    def __init__(self, user, username, email):\n",
    "        self.user = user\n",
    "        self.username = username\n",
    "        self.email = email\n",
    "\n",
    "    def __repr__(self):\n",
    "        return f\"User(user={self.user}, username={self.username}, email={self.email})\"\n",
    "\n",
    "\n",
    "\n",
    "class UpdateDB:\n",
    "\n",
    "    def __init__(self):\n",
    "        self.users = []\n",
    "\n",
    "    def __repr__(self):\n",
    "        return f\"UpdateDb(users={self.users})\"\n",
    "\n",
    "    def insert(self, user):\n",
    "        counter = 0\n",
    "        if (len(self.users)==0):\n",
    "            self.users.insert(counter, user)\n",
    "        elif self.users[-1].username < user.username:\n",
    "            self.users.append\n",
    "        else:\n",
    "            while counter < len(self.users):\n",
    "                if (self.users[counter].username > user.username):\n",
    "                    self.users.insert(counter, user)\n",
    "                    break\n",
    "                counter += 1\n",
    "\n",
    "    def find(self, user):\n",
    "        counter = 0\n",
    "        while counter < len(self.users):\n",
    "            if self.users[counter].user == user:\n",
    "                return self.users[counter]\n",
    "            counter += 1\n",
    "\n",
    "    # def update(self, user, username, email):\n",
    "    #     target = self.find(user)\n",
    "    #     target.username = username\n",
    "    #     target.email = email\n",
    "\n",
    "    def update(self, user, **kwargs):\n",
    "        target = self.find(user)\n",
    "        for i,j in kwargs.items():\n",
    "            setattr(target, i, j)\n",
    "\n",
    "    def delete(self, user):\n",
    "        target = self.find(user)\n",
    "        self.users.remove(target)"
   ]
  },
  {
   "cell_type": "code",
   "execution_count": 135,
   "id": "76835618-37d0-481a-af4a-c92e5b9c4d3a",
   "metadata": {},
   "outputs": [],
   "source": [
    "class Tree:\n",
    "    def __init__(self, key):\n",
    "        self.key = key\n",
    "        self.left = None\n",
    "        self.right = None\n",
    "\n",
    "\n",
    "tree = Tree(2)\n",
    "tree.left = Tree(3)\n",
    "tree.right = Tree(5)\n",
    "tree.right.left = Tree(3)\n",
    "tree.right.left.right = Tree(4)\n",
    "tree.right.right = Tree(7)\n",
    "tree.right.right.left = Tree(6)\n",
    "tree.right.right.right = Tree(8)\n",
    "\n",
    "\n",
    "\n",
    "class BinaryTree:\n",
    "    \n",
    "    def __init__(self):\n",
    "        self.tuple_data = None\n",
    "        self.tree = None\n",
    "\n",
    "    def __repr__(self):\n",
    "        return f\"BinaryTree: {self.tuple_data}\"\n",
    "\n",
    "    def _createBinaryTree(self, tuple_data):\n",
    "        if isinstance(tuple_data, tuple) and (len(tuple_data)==3):\n",
    "            tree = Tree(tuple_data[1])\n",
    "            tree.left = self._createBinaryTree(tuple_data[0])\n",
    "            tree.right = self._createBinaryTree(tuple_data[2])\n",
    "        elif tuple_data is None:\n",
    "            tree = None\n",
    "        else:\n",
    "            tree = Tree(tuple_data)\n",
    "        return tree\n",
    "\n",
    "    def convertTupleToTree(self):\n",
    "        self.tree = self._createBinaryTree(self.tuple_data)\n",
    "\n",
    "    \n",
    "    def _treeToTuple(self, tree):\n",
    "        if tree is not None:\n",
    "    \n",
    "            if tree.left == None:\n",
    "                left = None\n",
    "            elif (tree.left.left == tree.left.right == None):\n",
    "                left = tree.left.key\n",
    "            else:\n",
    "                left = self._treeToTuple(tree.left)\n",
    "    \n",
    "    \n",
    "            if tree.right == None:\n",
    "                right = None\n",
    "            elif (tree.right.left == tree.right.right == None):\n",
    "                right = tree.right.key\n",
    "            else:\n",
    "                right = self._treeToTuple(tree.right)\n",
    "                \n",
    "        else:\n",
    "            left = right = None\n",
    "    \n",
    "        return left, tree.key, right\n",
    "\n",
    "    \n",
    "    def convertTreeToTuple(self):\n",
    "        self.tuple_data = self._treeToTuple(self.tree)\n",
    "\n",
    "\n",
    "\n",
    "\n",
    "\n",
    "class BinaryTreeOps(BinaryTree):\n",
    "    def __init__(self):\n",
    "        super().__init__()\n",
    "        self.order = \"inorder\"\n",
    "        \n",
    "    def _traverse(self, tree):\n",
    "        \"\"\"order = (inorder, preorder, postorder)\"\"\"\n",
    "        if tree is None:\n",
    "            return []\n",
    "        if self.order == \"inorder\":\n",
    "            return(self._traverse(tree.left) + [tree.key] + self._traverse(tree.right))\n",
    "        elif self.order == \"preorder\":\n",
    "            return([tree.key] + self._traverse(tree.left) + self._traverse(tree.right))\n",
    "        elif self.order == \"postorder\":\n",
    "            return(self._traverse(tree.right) + self._traverse(tree.left) + [tree.key])\n",
    "\n",
    "    def traverse(self):\n",
    "        return self._traverse(self.tree)\n",
    "\n",
    "\n",
    "    def _tree_height(self, tree):\n",
    "        if tree is None:\n",
    "            return 0\n",
    "        return 1 + max(self._tree_height(tree.left), self._tree_height(tree.right))\n",
    "\n",
    "    def tree_height(self):\n",
    "        return self._tree_height(self.tree)\n",
    "\n",
    "    def _tree_size(self, tree):\n",
    "        if tree is None:\n",
    "            return 0\n",
    "        return 1 + self._tree_size(tree.left) + self._tree_size(tree.right)\n",
    "\n",
    "    def tree_size(self):\n",
    "        return self._tree_size(self.tree)\n",
    "\n",
    "    @staticmethod\n",
    "    def remove_none(nums):\n",
    "        return [x for x in nums if x is not None]\n",
    "    \n",
    "    def _is_bst(self, tree):\n",
    "        if tree is None:\n",
    "            return True, None, None\n",
    "    \n",
    "        is_bst_l, min_l, max_l = is_bst(tree.left)\n",
    "        is_bst_r, min_r, max_r = is_bst(tree.right)\n",
    "    \n",
    "        is_bst_tree = (is_bst_l and is_bst_r and\n",
    "                      (max_l is None or tree.key > max_l) and\n",
    "                      (min_r is None or tree.key < min_r))\n",
    "    \n",
    "        min_key = min(self.remove_none([min_l, tree.key, min_r]))\n",
    "        max_key = max(self.remove_none([max_l, tree.key, max_r]))\n",
    "    \n",
    "        return is_bst_tree, min_key, max_key\n",
    "\n",
    "    def is_bst(self):\n",
    "        return self._is_bst(self.tree)\n",
    "\n",
    "    \n",
    "    def _display_keys(self, tree, space, level):\n",
    "        # print(node.key if node else None, level)\n",
    "        \n",
    "        # If the node is empty\n",
    "        if tree is None:\n",
    "            print(space*level + '∅')\n",
    "            return   \n",
    "        \n",
    "        # If the node is a leaf \n",
    "        if tree.left is None and tree.right is None:\n",
    "            print(space*level + str(tree.key))\n",
    "            return\n",
    "        \n",
    "        # If the node has children\n",
    "        self._display_keys(tree.right, space, level+1)\n",
    "        print(space*level + str(tree.key))\n",
    "        self._display_keys(tree.left,space, level+1)\n",
    "\n",
    "    def displayTree(self, space='\\t', level=0):\n",
    "        self._display_keys(self.tree, space, level)"
   ]
  },
  {
   "cell_type": "code",
   "execution_count": 154,
   "id": "0dc89a3c-e1c8-4dac-8246-f86955108e19",
   "metadata": {},
   "outputs": [],
   "source": [
    "def display_keys(node, space='\\t', level=0):\n",
    "    # print(node.key if node else None, level)\n",
    "    \n",
    "    # If the node is empty\n",
    "    if node is None:\n",
    "        print(space*level + '∅')\n",
    "        return   \n",
    "    \n",
    "    # If the node is a leaf \n",
    "    if node.left is None and node.right is None:\n",
    "        print(space*level + str(node.key))\n",
    "        return\n",
    "    \n",
    "    # If the node has children\n",
    "    display_keys(node.right, space, level+1)\n",
    "    print(space*level + str(node.key))\n",
    "    display_keys(node.left,space, level+1)    "
   ]
  },
  {
   "cell_type": "code",
   "execution_count": 146,
   "id": "22b9d6fd-c38c-4c34-9de8-172c539eb1ee",
   "metadata": {},
   "outputs": [],
   "source": [
    "data = (('aakash', 'biraj', 'hemanth'), 'jadhesh', ('siddhant', 'sonaksh', 'vishal'))"
   ]
  },
  {
   "cell_type": "code",
   "execution_count": 147,
   "id": "407fbeb7-226d-4eae-86ec-91b7ad527aa2",
   "metadata": {},
   "outputs": [],
   "source": [
    "bt = BinaryTreeOps()\n",
    "bt.tuple_data = data\n",
    "bt.convertTupleToTree()\n",
    "tree = bt.tree"
   ]
  },
  {
   "cell_type": "code",
   "execution_count": 148,
   "id": "0b4f37c9-f75c-47b3-9cc2-22f69d69017a",
   "metadata": {},
   "outputs": [
    {
     "data": {
      "text/plain": [
       "(True, 'aakash', 'vishal')"
      ]
     },
     "execution_count": 148,
     "metadata": {},
     "output_type": "execute_result"
    }
   ],
   "source": [
    "bt.is_bst()"
   ]
  },
  {
   "cell_type": "code",
   "execution_count": 149,
   "id": "ec167b6a-002e-4c5d-a95f-2ea989e5d829",
   "metadata": {},
   "outputs": [
    {
     "name": "stdout",
     "output_type": "stream",
     "text": [
      "\t\tvishal\n",
      "\tsonaksh\n",
      "\t\tsiddhant\n",
      "jadhesh\n",
      "\t\themanth\n",
      "\tbiraj\n",
      "\t\taakash\n"
     ]
    }
   ],
   "source": [
    "bt.displayTree()"
   ]
  },
  {
   "cell_type": "code",
   "execution_count": null,
   "id": "55f31d33-0d20-464d-a823-49e3d23a06bd",
   "metadata": {},
   "outputs": [],
   "source": []
  },
  {
   "cell_type": "code",
   "execution_count": 179,
   "id": "31aeb82d-7ed0-43b2-9623-77c4f919d503",
   "metadata": {},
   "outputs": [],
   "source": [
    "jadesh = User('jadesh kumar', 'jadesh', 'jadesh@kumar.com')\n",
    "biraj = User('biraj kumar', 'biraj', 'biraj@kumar.com')\n",
    "aakash = User('aakash kumar', 'aakash', 'aakash@kumar.com')\n",
    "hemanth = User('hemanth kumar', 'hemanth', 'hemanth@kumar.com')\n",
    "sonaksh = User('sonaksh kumar', 'sonaksh', 'sonaksh@kumar.com')\n",
    "siddhant = User('siddhant kumar', 'siddhant', 'siddhant@kumar.com')\n",
    "vishal = User('vishal kumar', 'vishal', 'vishal@kumar.com')"
   ]
  },
  {
   "cell_type": "code",
   "execution_count": 180,
   "id": "bc347b20-6cc5-4762-9d1e-b0e00a501111",
   "metadata": {},
   "outputs": [],
   "source": [
    "class BST():\n",
    "    def __init__(self, key, value=None):\n",
    "        self.key = key\n",
    "        self.value = value\n",
    "        self.left = None\n",
    "        self.right = None\n",
    "        self.parent = None"
   ]
  },
  {
   "cell_type": "code",
   "execution_count": 153,
   "id": "c56a67f0-5b02-4bfa-9afa-7353df108deb",
   "metadata": {},
   "outputs": [],
   "source": [
    "tree = BST(jadesh.username, jadesh)\n",
    "\n",
    "# Level 1\n",
    "tree.left = BST(biraj.username, biraj)\n",
    "tree.left.parent = tree\n",
    "\n",
    "tree.right = BST(sonaksh.username, sonaksh)\n",
    "tree.right.parent = tree\n",
    "\n",
    "\n",
    "# Level 2\n",
    "tree.left.left = BST(aakash.username, aakash)\n",
    "tree.left.left.parent = tree.left\n",
    "\n",
    "tree.left.right = BST(hemanth.username, hemanth)\n",
    "tree.left.right.parent = tree.left\n",
    "\n",
    "\n",
    "tree.right.left = BST(siddhant.username, siddhant)\n",
    "tree.right.left.parent = tree.right\n",
    "\n",
    "tree.right.right = BST(vishal.username, vishal)\n",
    "tree.right.right.parent = tree.right"
   ]
  },
  {
   "cell_type": "code",
   "execution_count": 456,
   "id": "8c4780ba-d173-490d-80d2-c03aff3ac545",
   "metadata": {},
   "outputs": [],
   "source": [
    "class BinarySearchTree():\n",
    "\n",
    "    def __init__(self, key=None, value=None):\n",
    "        self.tree = self._insert(None, key, value)\n",
    "\n",
    "    def _insert(self, tree, key, value):\n",
    "        if (tree is None) or (tree.key is None):\n",
    "            tree = BST(key, value)\n",
    "        elif key < tree.key:\n",
    "            tree.left = self._insert(tree.left, key, value)\n",
    "            tree.left.parent = tree\n",
    "        elif key > tree.key:\n",
    "            tree.right = self._insert(tree.right, key, value)\n",
    "            tree.right.parent = tree\n",
    "        return tree\n",
    "\n",
    "    def insert(self, key, value):\n",
    "        self.tree = self._insert(self.tree, key, value)\n",
    "\n",
    "    def _find(self, tree, key):\n",
    "        if (tree is not None) and (tree.key is not None):\n",
    "            if tree.key == key:\n",
    "                return tree\n",
    "            elif tree.key > key:\n",
    "                return self._find(tree.left, key)\n",
    "            elif tree.key < key:\n",
    "                return self._find(tree.right, key)\n",
    "        return None\n",
    "\n",
    "    def find(self, key):\n",
    "        return self._find(self.tree, key)\n",
    "\n",
    "    def update(self, key, value):\n",
    "        target = self.find(key)\n",
    "        if target is not None:\n",
    "            target.value = value\n",
    "\n",
    "    def _list_nodes(self, tree):\n",
    "        if tree is None:\n",
    "            return []\n",
    "        return self._list_nodes(tree.left) + [(tree.key, tree.value)] + self._list_nodes(tree.right)\n",
    "\n",
    "    def list_nodes(self):\n",
    "        return self._list_nodes(self.tree)\n",
    "\n",
    "    def _is_balanced(self, tree):\n",
    "        if tree is None:\n",
    "            return True, 0\n",
    "    \n",
    "        balanced_l, height_l = self._is_balanced(tree.left)\n",
    "        balanced_r, height_r = self._is_balanced(tree.right)\n",
    "    \n",
    "        balanced = balanced_l and balanced_r and (abs(height_l - height_r) <= 1)\n",
    "        height = 1 + max(height_l, height_r)\n",
    "    \n",
    "        return balanced, height\n",
    "\n",
    "    def is_balanced(self):\n",
    "        return self._is_balanced(self.tree)\n",
    "\n",
    "    def _makeBalancedBst(self, data, lo=0, hi=None, parent=None):\n",
    "        if hi is None:\n",
    "            hi = len(data) - 1 \n",
    "        if lo > hi:\n",
    "            return None\n",
    "\n",
    "        mid = (lo + hi)//2\n",
    "        key, value = data[mid]\n",
    "\n",
    "        root = BST(key, value)\n",
    "        root.parent = parent\n",
    "        root.left = self._makeBalancedBst(data, lo, mid-1, root)\n",
    "        root.right = self._makeBalancedBst(data, mid+1, hi, root)\n",
    "\n",
    "        return root\n",
    "\n",
    "    def makeBalancedBST(self, data):\n",
    "        self.tree = self._makeBalancedBst(data)\n",
    "\n",
    "    def balance_a_bst(self):\n",
    "        return self.makeBalancedBST(self.list_nodes())\n",
    "\n",
    "    def _tree_size(self, tree):\n",
    "        if tree is None:\n",
    "            return 0\n",
    "        elif tree.left == tree.right == None:\n",
    "            return 1\n",
    "        left = self._tree_size(tree.left)\n",
    "        right = self._tree_size(tree.right)\n",
    "        return left + right + 1\n",
    "\n",
    "    def tree_size(self):\n",
    "        return self._tree_size(self.tree)\n",
    "\n",
    "    def delete_node(self, key, balance_it = False):\n",
    "        target_node = self.find(key)\n",
    "        if target_node:\n",
    "            left = target_node.left\n",
    "            right = target_node.right\n",
    "            parent = target_node.parent\n",
    "            if parent.key > target_node.key:\n",
    "                parent.left = None\n",
    "            else:\n",
    "                parent.right = None\n",
    "            self.insert(left.key, left)\n",
    "            self.insert(right.key, right)\n",
    "            if balance_it:\n",
    "                self.balance_a_bst()"
   ]
  },
  {
   "cell_type": "code",
   "execution_count": 522,
   "id": "d51fe2e8-4dc5-487c-8966-21951ce27ddc",
   "metadata": {},
   "outputs": [],
   "source": [
    "class TreeMap(BinarySearchTree):\n",
    "\n",
    "    def __init__(self):\n",
    "        super().__init__()\n",
    "\n",
    "    def __setitem__(self, key, value):\n",
    "        tree = self.find(key)\n",
    "        if not tree:\n",
    "            self.insert(key, value)\n",
    "            self.balance_a_bst()\n",
    "        else:\n",
    "            self.update(key, value)\n",
    "\n",
    "    def __getitem__(self, key):\n",
    "        tree = self.find(key)\n",
    "        return tree.value if tree else None\n",
    "\n",
    "    def __iter__(self):\n",
    "        return (x for x in self.list_nodes())\n",
    "\n",
    "    def __len__(self):\n",
    "        return self.tree_size()\n",
    "\n",
    "    def __delitem__(self, key):\n",
    "        return self.delete_node(key)\n",
    "\n",
    "    def display(self):\n",
    "        return display_keys(self.tree)"
   ]
  },
  {
   "cell_type": "code",
   "execution_count": 465,
   "id": "eeef2cf9-a0a4-4b89-bbe5-43edf9f4546a",
   "metadata": {},
   "outputs": [],
   "source": [
    "bst2 = BinarySearchTree()"
   ]
  },
  {
   "cell_type": "code",
   "execution_count": 466,
   "id": "9e4a8177-30d2-409b-b9d1-3822910fa8a8",
   "metadata": {},
   "outputs": [],
   "source": [
    "bst2.makeBalancedBST([(i.username, i) for i in [aakash, biraj, hemanth, jadesh, siddhant, sonaksh, vishal]])"
   ]
  },
  {
   "cell_type": "code",
   "execution_count": 467,
   "id": "8cfd4fea-c3e0-42ec-9aab-8817bc1c2ce4",
   "metadata": {},
   "outputs": [
    {
     "name": "stdout",
     "output_type": "stream",
     "text": [
      "\t\tvishal\n",
      "\tsonaksh\n",
      "\t\tsiddhant\n",
      "jadesh\n",
      "\t\themanth\n",
      "\tbiraj\n",
      "\t\taakash\n"
     ]
    }
   ],
   "source": [
    "display_keys(bst2.tree)"
   ]
  },
  {
   "cell_type": "code",
   "execution_count": 468,
   "id": "ce227929-4939-484d-8551-b2bd21c3515b",
   "metadata": {},
   "outputs": [
    {
     "data": {
      "text/plain": [
       "7"
      ]
     },
     "execution_count": 468,
     "metadata": {},
     "output_type": "execute_result"
    }
   ],
   "source": [
    "bst2.tree_size()"
   ]
  },
  {
   "cell_type": "code",
   "execution_count": 470,
   "id": "9b2c4400-e531-438a-b600-377fabf12078",
   "metadata": {},
   "outputs": [
    {
     "name": "stdout",
     "output_type": "stream",
     "text": [
      "\t\tvishal\n",
      "\tsiddhant\n",
      "\t\t∅\n",
      "jadesh\n",
      "\t\themanth\n",
      "\tbiraj\n",
      "\t\taakash\n"
     ]
    }
   ],
   "source": [
    "display_keys(bst2.tree)"
   ]
  },
  {
   "cell_type": "code",
   "execution_count": null,
   "id": "f486050c-75be-4405-8b12-8f674b9616bc",
   "metadata": {},
   "outputs": [],
   "source": []
  },
  {
   "cell_type": "code",
   "execution_count": 336,
   "id": "eb236485-ce56-4440-bc92-13c21410c441",
   "metadata": {},
   "outputs": [],
   "source": [
    "bst3 = BinarySearchTree(aakash.username, aakash)"
   ]
  },
  {
   "cell_type": "code",
   "execution_count": 337,
   "id": "b48ac482-8775-4b14-99d6-126ab9958434",
   "metadata": {},
   "outputs": [],
   "source": [
    "for i in [biraj, hemanth, jadesh, siddhant, sonaksh, vishal]:\n",
    "    bst3.insert(i.username, i)"
   ]
  },
  {
   "cell_type": "code",
   "execution_count": 338,
   "id": "81f1960f-2bbf-4e68-9387-d6a2d7cbab2c",
   "metadata": {},
   "outputs": [
    {
     "name": "stdout",
     "output_type": "stream",
     "text": [
      "\t\t\t\t\t\tvishal\n",
      "\t\t\t\t\tsonaksh\n",
      "\t\t\t\t\t\t∅\n",
      "\t\t\t\tsiddhant\n",
      "\t\t\t\t\t∅\n",
      "\t\t\tjadesh\n",
      "\t\t\t\t∅\n",
      "\t\themanth\n",
      "\t\t\t∅\n",
      "\tbiraj\n",
      "\t\t∅\n",
      "aakash\n",
      "\t∅\n"
     ]
    }
   ],
   "source": [
    "display_keys(bst3.tree)"
   ]
  },
  {
   "cell_type": "code",
   "execution_count": 339,
   "id": "cea852ea-23fd-439f-8bc8-a99ed74dab49",
   "metadata": {},
   "outputs": [],
   "source": [
    "bst3.balance_a_bst()"
   ]
  },
  {
   "cell_type": "code",
   "execution_count": 340,
   "id": "d4be1cb5-1fab-4161-a618-bb48efef998d",
   "metadata": {},
   "outputs": [
    {
     "name": "stdout",
     "output_type": "stream",
     "text": [
      "\t\tvishal\n",
      "\tsonaksh\n",
      "\t\tsiddhant\n",
      "jadesh\n",
      "\t\themanth\n",
      "\tbiraj\n",
      "\t\taakash\n"
     ]
    }
   ],
   "source": [
    "display_keys(bst3.tree)"
   ]
  },
  {
   "cell_type": "code",
   "execution_count": null,
   "id": "7938053b-5a25-4922-a34e-0334a3fd17cd",
   "metadata": {},
   "outputs": [],
   "source": []
  },
  {
   "cell_type": "code",
   "execution_count": null,
   "id": "d20473f0-737a-45df-b269-07442e8efe2b",
   "metadata": {},
   "outputs": [],
   "source": []
  },
  {
   "cell_type": "code",
   "execution_count": null,
   "id": "6a4b2f86-f660-4f6d-b2e4-e3e1bfb1a884",
   "metadata": {},
   "outputs": [],
   "source": []
  },
  {
   "cell_type": "code",
   "execution_count": 397,
   "id": "3ce13d2e-3b40-415a-90e0-fb10db12915c",
   "metadata": {},
   "outputs": [],
   "source": [
    "bst = BinarySearchTree(jadesh.username, jadesh)"
   ]
  },
  {
   "cell_type": "code",
   "execution_count": 398,
   "id": "2af9bbd8-385b-420b-ad02-a3c44b38a72f",
   "metadata": {},
   "outputs": [],
   "source": [
    "for i in [biraj, aakash, hemanth, sonaksh, siddhant, vishal]:\n",
    "    bst.insert(i.username, i)"
   ]
  },
  {
   "cell_type": "code",
   "execution_count": 399,
   "id": "f8c86bed-2b64-4829-be4c-6e5f4bcb8793",
   "metadata": {},
   "outputs": [
    {
     "name": "stdout",
     "output_type": "stream",
     "text": [
      "\t\tvishal\n",
      "\tsonaksh\n",
      "\t\tsiddhant\n",
      "jadesh\n",
      "\t\themanth\n",
      "\tbiraj\n",
      "\t\taakash\n"
     ]
    }
   ],
   "source": [
    "display_keys(bst.tree)"
   ]
  },
  {
   "cell_type": "code",
   "execution_count": 358,
   "id": "e9c7c469-c50b-4e8f-a1c6-9b8b5c6ab9c1",
   "metadata": {},
   "outputs": [
    {
     "data": {
      "text/plain": [
       "'biraj'"
      ]
     },
     "execution_count": 358,
     "metadata": {},
     "output_type": "execute_result"
    }
   ],
   "source": [
    "bst.find('biraj').key"
   ]
  },
  {
   "cell_type": "code",
   "execution_count": 359,
   "id": "8f5583cd-8496-4f57-b007-59e24f421460",
   "metadata": {},
   "outputs": [
    {
     "data": {
      "text/plain": [
       "User(user=biraj kumar, username=biraj, email=biraj@kumar.com)"
      ]
     },
     "execution_count": 359,
     "metadata": {},
     "output_type": "execute_result"
    }
   ],
   "source": [
    "bst.find('biraj').value"
   ]
  },
  {
   "cell_type": "code",
   "execution_count": 360,
   "id": "74a76e73-28e5-4d4a-bbf1-f6c8c3c8971c",
   "metadata": {},
   "outputs": [],
   "source": [
    "bst.update('biraj', User(user='biraj kumar singh', username='biraj', email='biraj@singh.com'))"
   ]
  },
  {
   "cell_type": "code",
   "execution_count": 361,
   "id": "36d9f742-cfd0-4708-b8e4-6b87059bd4fa",
   "metadata": {},
   "outputs": [
    {
     "data": {
      "text/plain": [
       "User(user=biraj kumar singh, username=biraj, email=biraj@singh.com)"
      ]
     },
     "execution_count": 361,
     "metadata": {},
     "output_type": "execute_result"
    }
   ],
   "source": [
    "bst.find('biraj').value"
   ]
  },
  {
   "cell_type": "code",
   "execution_count": 362,
   "id": "31173071-0fce-4bb0-b4fe-2204197b0584",
   "metadata": {},
   "outputs": [
    {
     "data": {
      "text/plain": [
       "[('aakash', User(user=aakash kumar, username=aakash, email=aakash@kumar.com)),\n",
       " ('biraj',\n",
       "  User(user=biraj kumar singh, username=biraj, email=biraj@singh.com)),\n",
       " ('hemanth',\n",
       "  User(user=hemanth kumar, username=hemanth, email=hemanth@kumar.com)),\n",
       " ('jadesh', User(user=jadesh kumar, username=jadesh, email=jadesh@kumar.com)),\n",
       " ('siddhant',\n",
       "  User(user=siddhant kumar, username=siddhant, email=siddhant@kumar.com)),\n",
       " ('sonaksh',\n",
       "  User(user=sonaksh kumar, username=sonaksh, email=sonaksh@kumar.com)),\n",
       " ('vishal', User(user=vishal kumar, username=vishal, email=vishal@kumar.com))]"
      ]
     },
     "execution_count": 362,
     "metadata": {},
     "output_type": "execute_result"
    }
   ],
   "source": [
    "bst.list_nodes()"
   ]
  },
  {
   "cell_type": "code",
   "execution_count": 363,
   "id": "0669c325-747d-4795-a2ee-0acdeeefee89",
   "metadata": {},
   "outputs": [
    {
     "data": {
      "text/plain": [
       "(True, 3)"
      ]
     },
     "execution_count": 363,
     "metadata": {},
     "output_type": "execute_result"
    }
   ],
   "source": [
    "bst.is_balanced()"
   ]
  },
  {
   "cell_type": "code",
   "execution_count": 364,
   "id": "519e6ac9-2e86-4eec-af62-7ebf0bbd1134",
   "metadata": {},
   "outputs": [
    {
     "data": {
      "text/plain": [
       "User(user=biraj kumar singh, username=biraj, email=biraj@singh.com)"
      ]
     },
     "execution_count": 364,
     "metadata": {},
     "output_type": "execute_result"
    }
   ],
   "source": [
    "bst.find('biraj').value"
   ]
  },
  {
   "cell_type": "code",
   "execution_count": null,
   "id": "2b8b4894-7f55-4d55-8dfb-c4e1c127cb5d",
   "metadata": {},
   "outputs": [],
   "source": []
  },
  {
   "cell_type": "code",
   "execution_count": 514,
   "id": "fc31a57f-3a9e-4540-b8d1-0c552ad50f7b",
   "metadata": {},
   "outputs": [],
   "source": []
  },
  {
   "cell_type": "code",
   "execution_count": 515,
   "id": "a1ca6199-cff0-4be6-993b-a82ae9fada68",
   "metadata": {},
   "outputs": [],
   "source": [
    "tm = TreeMap()"
   ]
  },
  {
   "cell_type": "code",
   "execution_count": 516,
   "id": "5af63ae3-0d9e-4a75-9963-67ddee5fd49b",
   "metadata": {},
   "outputs": [],
   "source": [
    "for i in [jadesh, biraj, aakash, hemanth, sonaksh, siddhant, vishal]:\n",
    "    tm[i.username] = i"
   ]
  },
  {
   "cell_type": "code",
   "execution_count": 517,
   "id": "64807e98-5ef5-4a71-b8d3-2b1bfda3398b",
   "metadata": {},
   "outputs": [
    {
     "data": {
      "text/plain": [
       "<__main__.BST at 0x2142e2300d0>"
      ]
     },
     "execution_count": 517,
     "metadata": {},
     "output_type": "execute_result"
    }
   ],
   "source": [
    "tm.find('aakash')"
   ]
  },
  {
   "cell_type": "code",
   "execution_count": 518,
   "id": "0655f816-37e8-4280-8f75-8767db15c7af",
   "metadata": {},
   "outputs": [
    {
     "name": "stdout",
     "output_type": "stream",
     "text": [
      "\t\tvishal\n",
      "\tsonaksh\n",
      "\t\tsiddhant\n",
      "jadesh\n",
      "\t\themanth\n",
      "\tbiraj\n",
      "\t\taakash\n"
     ]
    }
   ],
   "source": [
    "display_keys(tm.tree)"
   ]
  },
  {
   "cell_type": "code",
   "execution_count": 519,
   "id": "1c72ccab-0db9-4647-ad65-ff6b13b0abd3",
   "metadata": {},
   "outputs": [
    {
     "data": {
      "text/plain": [
       "User(user=biraj kumar, username=biraj, email=biraj@kumar.com)"
      ]
     },
     "execution_count": 519,
     "metadata": {},
     "output_type": "execute_result"
    }
   ],
   "source": [
    "tm['biraj']"
   ]
  },
  {
   "cell_type": "code",
   "execution_count": 520,
   "id": "edf01c1b-fce3-48a5-a62b-1e697159868a",
   "metadata": {},
   "outputs": [],
   "source": [
    "del(tm['sonaksh'])"
   ]
  },
  {
   "cell_type": "code",
   "execution_count": 521,
   "id": "43587d63-1044-48ad-b1d2-4ae72c4d573e",
   "metadata": {},
   "outputs": [
    {
     "name": "stdout",
     "output_type": "stream",
     "text": [
      "\t\tvishal\n",
      "\tsiddhant\n",
      "\t\t∅\n",
      "jadesh\n",
      "\t\themanth\n",
      "\tbiraj\n",
      "\t\taakash\n"
     ]
    }
   ],
   "source": [
    "display_keys(tm.tree)"
   ]
  },
  {
   "cell_type": "code",
   "execution_count": null,
   "id": "5bd1ede9-fbfe-43b9-b78c-ee11bae9da1f",
   "metadata": {},
   "outputs": [],
   "source": []
  }
 ],
 "metadata": {
  "kernelspec": {
   "display_name": "Python 3 (ipykernel)",
   "language": "python",
   "name": "python3"
  },
  "language_info": {
   "codemirror_mode": {
    "name": "ipython",
    "version": 3
   },
   "file_extension": ".py",
   "mimetype": "text/x-python",
   "name": "python",
   "nbconvert_exporter": "python",
   "pygments_lexer": "ipython3",
   "version": "3.11.8"
  }
 },
 "nbformat": 4,
 "nbformat_minor": 5
}
