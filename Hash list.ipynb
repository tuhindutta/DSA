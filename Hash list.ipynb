{
 "cells": [
  {
   "cell_type": "code",
   "execution_count": 1,
   "id": "a82095a3-6095-4206-98f1-83bbd723628a",
   "metadata": {},
   "outputs": [],
   "source": [
    "data_list = [None] * 4096"
   ]
  },
  {
   "cell_type": "code",
   "execution_count": 562,
   "id": "8c7675a7-fe11-419d-8d06-bd994951cfe7",
   "metadata": {},
   "outputs": [],
   "source": [
    "class HashMap:\n",
    "\n",
    "    def __init__(self, tuple_data=None, size=4096):\n",
    "        self.size = size\n",
    "        self.data_list = [None] * self.size\n",
    "        self.__keys = []\n",
    "        if tuple_data:\n",
    "            for i,j in tuple_data:\n",
    "                self.__setitem__(i,j)\n",
    "\n",
    "    def get_index(self, st):\n",
    "        res = 0\n",
    "        for i in st:\n",
    "            res += ord(i)\n",
    "        idx = res % self.size\n",
    "        return idx\n",
    "\n",
    "    # def probe_index(self, st):\n",
    "    #     idx = self.get_index(st)\n",
    "        \n",
    "    #     if self.data_list[idx] is not None:\n",
    "    #         while (self.data_list[idx] is not None) and (idx < self.size-1):\n",
    "    #             idx += 1\n",
    "    #     return idx\n",
    "\n",
    "    def __setitem__(self, key, value):\n",
    "        idx = self.get_index(key)\n",
    "        if (self.data_list[idx] is None) or (self.data_list[idx][0] == key):\n",
    "            self.data_list[idx] = (key, value)\n",
    "            \n",
    "        else:\n",
    "            while (self.data_list[idx] is not None) and (self.data_list[idx][0] != key):\n",
    "                idx += 1\n",
    "            self.data_list[idx] = (key, value)   \n",
    "        if key not in self.__keys:\n",
    "            self.__keys.append(key)\n",
    "\n",
    "    def __getitem__(self, key):\n",
    "        idx = self.get_index(key)\n",
    "        k, v = self.data_list[idx]\n",
    "        if key != k:\n",
    "            while (self.data_list[idx] is not None) and (self.data_list[idx][0] != key):\n",
    "                idx += 1\n",
    "        return self.data_list[idx][1]\n",
    "\n",
    "    def __repr__(self):\n",
    "        output = tuple([(i, self.__getitem__(i)) for i in self.__keys])\n",
    "        res = \"{\\n\"\n",
    "        for i,j in output:\n",
    "            res += f\"\\t{i} : {j},\\n\"\n",
    "        return res+\"}\"\n",
    "\n",
    "    def __delitem__(self, key):\n",
    "        self.data_list[self.get_index(key)] = None\n",
    "        self.__keys = [i for i in self.__keys if i!=key]\n",
    "\n",
    "    def keys(self):\n",
    "        return self.__keys\n",
    "\n",
    "    def values(self):\n",
    "        return [self.__getitem__(i)[1] for i in self.keys()]"
   ]
  },
  {
   "cell_type": "code",
   "execution_count": 563,
   "id": "3f5799b8-a4ef-4c74-8116-57a214182872",
   "metadata": {},
   "outputs": [],
   "source": [
    "hm = HashMap()"
   ]
  },
  {
   "cell_type": "code",
   "execution_count": 564,
   "id": "0de6f33c-77a6-4426-8fe7-07e50d9d33ae",
   "metadata": {},
   "outputs": [],
   "source": [
    "hm['silent'] = 'silent'\n",
    "hm['listen'] = 'listen'"
   ]
  },
  {
   "cell_type": "code",
   "execution_count": 565,
   "id": "6b9ec0c0-55c1-458b-8e74-958a463dcdfb",
   "metadata": {},
   "outputs": [
    {
     "data": {
      "text/plain": [
       "('silent', 'listen')"
      ]
     },
     "execution_count": 565,
     "metadata": {},
     "output_type": "execute_result"
    }
   ],
   "source": [
    "hm['silent'], hm['listen']"
   ]
  },
  {
   "cell_type": "code",
   "execution_count": 566,
   "id": "b657c416-c6fd-4fea-8725-fc679ed3e960",
   "metadata": {},
   "outputs": [
    {
     "data": {
      "text/plain": [
       "{\n",
       "\tsilent : silent,\n",
       "\tlisten : listen,\n",
       "}"
      ]
     },
     "execution_count": 566,
     "metadata": {},
     "output_type": "execute_result"
    }
   ],
   "source": [
    "hm"
   ]
  },
  {
   "cell_type": "code",
   "execution_count": 567,
   "id": "df0d84dd-34c5-4983-97b7-55dbeb60baa1",
   "metadata": {},
   "outputs": [],
   "source": [
    "hm['one'] = '1'\n",
    "hm['two'] = '2'"
   ]
  },
  {
   "cell_type": "code",
   "execution_count": 568,
   "id": "cf034af8-1bf8-4d3b-aece-3ddea9de68e0",
   "metadata": {},
   "outputs": [
    {
     "data": {
      "text/plain": [
       "'1'"
      ]
     },
     "execution_count": 568,
     "metadata": {},
     "output_type": "execute_result"
    }
   ],
   "source": [
    "hm['one']"
   ]
  },
  {
   "cell_type": "code",
   "execution_count": 569,
   "id": "902011cc-55ed-407b-a4a2-5e5583084659",
   "metadata": {},
   "outputs": [
    {
     "data": {
      "text/plain": [
       "{\n",
       "\tsilent : silent,\n",
       "\tlisten : listen,\n",
       "\tone : 1,\n",
       "\ttwo : 2,\n",
       "}"
      ]
     },
     "execution_count": 569,
     "metadata": {},
     "output_type": "execute_result"
    }
   ],
   "source": [
    "hm"
   ]
  },
  {
   "cell_type": "code",
   "execution_count": 570,
   "id": "54a807db-0f57-4cc8-92ed-1eb11ad4b7d4",
   "metadata": {},
   "outputs": [],
   "source": [
    "hm['silent'] = 'listen'\n",
    "hm['listen'] = 'silent'"
   ]
  },
  {
   "cell_type": "code",
   "execution_count": 571,
   "id": "1c096990-05cb-40b5-8227-fa8e86b71853",
   "metadata": {},
   "outputs": [
    {
     "data": {
      "text/plain": [
       "{\n",
       "\tsilent : listen,\n",
       "\tlisten : silent,\n",
       "\tone : 1,\n",
       "\ttwo : 2,\n",
       "}"
      ]
     },
     "execution_count": 571,
     "metadata": {},
     "output_type": "execute_result"
    }
   ],
   "source": [
    "hm"
   ]
  },
  {
   "cell_type": "code",
   "execution_count": 572,
   "id": "89a6bb59-092a-44cb-a4b9-c9557900a0dc",
   "metadata": {},
   "outputs": [],
   "source": [
    "hm['three'] = 3"
   ]
  },
  {
   "cell_type": "code",
   "execution_count": 573,
   "id": "3ddd9180-309c-4188-8742-799c3afa63a3",
   "metadata": {},
   "outputs": [
    {
     "data": {
      "text/plain": [
       "3"
      ]
     },
     "execution_count": 573,
     "metadata": {},
     "output_type": "execute_result"
    }
   ],
   "source": [
    "hm['three']"
   ]
  },
  {
   "cell_type": "code",
   "execution_count": 574,
   "id": "a536f728-6466-4fad-9d81-ecaf0f1fef96",
   "metadata": {},
   "outputs": [
    {
     "data": {
      "text/plain": [
       "{\n",
       "\tsilent : listen,\n",
       "\tlisten : silent,\n",
       "\tone : 1,\n",
       "\ttwo : 2,\n",
       "\tthree : 3,\n",
       "}"
      ]
     },
     "execution_count": 574,
     "metadata": {},
     "output_type": "execute_result"
    }
   ],
   "source": [
    "hm"
   ]
  },
  {
   "cell_type": "code",
   "execution_count": null,
   "id": "508c87b6-b131-4b33-ae14-b16cab2f72e5",
   "metadata": {},
   "outputs": [],
   "source": []
  },
  {
   "cell_type": "code",
   "execution_count": 575,
   "id": "d940f2b9-4f55-4800-b035-5dcd5c43de70",
   "metadata": {},
   "outputs": [],
   "source": [
    "hm2 = HashMap((('one', '1'), ('two', '2')))"
   ]
  },
  {
   "cell_type": "code",
   "execution_count": 576,
   "id": "7e4e5ced-d807-4cff-b34e-e7d9cba075b0",
   "metadata": {},
   "outputs": [
    {
     "data": {
      "text/plain": [
       "{\n",
       "\tone : 1,\n",
       "\ttwo : 2,\n",
       "}"
      ]
     },
     "execution_count": 576,
     "metadata": {},
     "output_type": "execute_result"
    }
   ],
   "source": [
    "hm2"
   ]
  },
  {
   "cell_type": "code",
   "execution_count": 577,
   "id": "d0d73b07-0e72-44a6-ae05-83c5d80a4313",
   "metadata": {},
   "outputs": [
    {
     "data": {
      "text/plain": [
       "'2'"
      ]
     },
     "execution_count": 577,
     "metadata": {},
     "output_type": "execute_result"
    }
   ],
   "source": [
    "hm2['two']"
   ]
  },
  {
   "cell_type": "code",
   "execution_count": 578,
   "id": "ad04d664-ff22-40b6-adc6-b5c2149f5ad7",
   "metadata": {},
   "outputs": [
    {
     "data": {
      "text/plain": [
       "{\n",
       "\tsilent : listen,\n",
       "\tlisten : silent,\n",
       "\tone : 1,\n",
       "\ttwo : 2,\n",
       "\tthree : 3,\n",
       "}"
      ]
     },
     "execution_count": 578,
     "metadata": {},
     "output_type": "execute_result"
    }
   ],
   "source": [
    "hm"
   ]
  },
  {
   "cell_type": "code",
   "execution_count": 579,
   "id": "62f2ae6f-e9b3-40d7-83b0-f0ee53ef751e",
   "metadata": {},
   "outputs": [],
   "source": [
    "hm['two'] = 45245"
   ]
  },
  {
   "cell_type": "code",
   "execution_count": 580,
   "id": "d34f30f1-0996-4065-a0e5-6e0ee22a5047",
   "metadata": {},
   "outputs": [
    {
     "data": {
      "text/plain": [
       "{\n",
       "\tsilent : listen,\n",
       "\tlisten : silent,\n",
       "\tone : 1,\n",
       "\ttwo : 45245,\n",
       "\tthree : 3,\n",
       "}"
      ]
     },
     "execution_count": 580,
     "metadata": {},
     "output_type": "execute_result"
    }
   ],
   "source": [
    "hm"
   ]
  },
  {
   "cell_type": "code",
   "execution_count": 581,
   "id": "6a2164c1-3704-49aa-a637-91c00e8df871",
   "metadata": {},
   "outputs": [],
   "source": [
    "del(hm['one'])"
   ]
  },
  {
   "cell_type": "code",
   "execution_count": 590,
   "id": "6e0bdfff-4c29-409d-89d9-18d314dc3e4c",
   "metadata": {},
   "outputs": [
    {
     "data": {
      "text/plain": [
       "{\n",
       "\tsilent : listen,\n",
       "\tlisten : silent,\n",
       "\ttwo : 45245,\n",
       "\tthree : 3,\n",
       "}"
      ]
     },
     "execution_count": 590,
     "metadata": {},
     "output_type": "execute_result"
    }
   ],
   "source": [
    "hm"
   ]
  },
  {
   "cell_type": "code",
   "execution_count": null,
   "id": "b8f8dda0-2ce8-4708-ad2f-27be8dc8923d",
   "metadata": {},
   "outputs": [],
   "source": []
  }
 ],
 "metadata": {
  "kernelspec": {
   "display_name": "Python 3 (ipykernel)",
   "language": "python",
   "name": "python3"
  },
  "language_info": {
   "codemirror_mode": {
    "name": "ipython",
    "version": 3
   },
   "file_extension": ".py",
   "mimetype": "text/x-python",
   "name": "python",
   "nbconvert_exporter": "python",
   "pygments_lexer": "ipython3",
   "version": "3.11.8"
  }
 },
 "nbformat": 4,
 "nbformat_minor": 5
}
