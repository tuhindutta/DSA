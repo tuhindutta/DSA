{
 "cells": [
  {
   "cell_type": "code",
   "execution_count": 332,
   "id": "8478d536-c62d-4da6-84d8-bbe4b19297a1",
   "metadata": {},
   "outputs": [],
   "source": [
    "num_nodes = 6\n",
    "edges = ((0,1), (0,4), (1,2), (1,3), (1,4), (2,3), (3,4))"
   ]
  },
  {
   "cell_type": "code",
   "execution_count": 333,
   "id": "a01d5e51-15f4-4837-b70f-8bbdb9daae12",
   "metadata": {},
   "outputs": [],
   "source": [
    "import pandas as pd, numpy as np"
   ]
  },
  {
   "cell_type": "code",
   "execution_count": 334,
   "id": "1641285f-1caa-4868-89f8-dc3e35b14b75",
   "metadata": {},
   "outputs": [
    {
     "data": {
      "text/plain": [
       "5"
      ]
     },
     "execution_count": 334,
     "metadata": {},
     "output_type": "execute_result"
    }
   ],
   "source": [
    "len(graph.adjacency_list)"
   ]
  },
  {
   "cell_type": "code",
   "execution_count": 335,
   "id": "53165814-5845-4f76-aed2-6104dcf654fc",
   "metadata": {},
   "outputs": [],
   "source": [
    "class Graph:\n",
    "\n",
    "    def __init__(self, num_nodes, edges):\n",
    "        self.num_nodes = num_nodes\n",
    "        self.data = [[] for _ in range(num_nodes)]\n",
    "        for n1, n2 in edges:\n",
    "            self.data[n1].append(n2)\n",
    "            self.data[n2].append(n1)\n",
    "        # self.adjacency_matrix = self.__adjacency_matrix()\n",
    "\n",
    "    def __repr__(self):\n",
    "        return '\\n'.join([f\"{i}: {j}\" for i,j in enumerate(self.data)])\n",
    "\n",
    "    def __len__(self):\n",
    "        return len(self.adjacency_list)\n",
    "\n",
    "    def add_edges(self, *edges):\n",
    "        for n1, n2 in edges:\n",
    "            self.data[n1].append(n2)\n",
    "            self.data[n2].append(n1)\n",
    "\n",
    "    def remove_edges(self, *edges):\n",
    "        for n1, n2 in edges:\n",
    "            self.data[n1].remove(n2)\n",
    "            self.data[n2].remove(n1)\n",
    "\n",
    "    @property\n",
    "    def adjacency_matrix(self):\n",
    "        arr = np.zeros((self.num_nodes, self.num_nodes))\n",
    "        arr = np.vectorize(lambda x: int(x))(arr)\n",
    "        df = pd.DataFrame(arr, columns = range(num_nodes), index = range(num_nodes))\n",
    "        for n1, N2 in enumerate(self.data):\n",
    "            for n2 in N2:\n",
    "                df.loc[n1,n2] = 1\n",
    "        return df\n",
    "\n",
    "    @property\n",
    "    def adjacency_list(self):\n",
    "        return dict(enumerate(self.data))"
   ]
  },
  {
   "cell_type": "code",
   "execution_count": 336,
   "id": "dce44bd2-a8e2-487a-a241-c356e997631a",
   "metadata": {},
   "outputs": [],
   "source": [
    "graph = Graph(num_nodes, edges)"
   ]
  },
  {
   "cell_type": "code",
   "execution_count": 337,
   "id": "94b9c51d-3a4a-4eb3-8467-a24d9a349b90",
   "metadata": {},
   "outputs": [
    {
     "data": {
      "text/plain": [
       "0: [1, 4]\n",
       "1: [0, 2, 3, 4]\n",
       "2: [1, 3]\n",
       "3: [1, 2, 4]\n",
       "4: [0, 1, 3]\n",
       "5: []"
      ]
     },
     "execution_count": 337,
     "metadata": {},
     "output_type": "execute_result"
    }
   ],
   "source": [
    "graph"
   ]
  },
  {
   "cell_type": "code",
   "execution_count": 338,
   "id": "d03f1cd8-e9a4-4b99-b6e2-b6e545c23ece",
   "metadata": {},
   "outputs": [
    {
     "data": {
      "text/html": [
       "<div>\n",
       "<style scoped>\n",
       "    .dataframe tbody tr th:only-of-type {\n",
       "        vertical-align: middle;\n",
       "    }\n",
       "\n",
       "    .dataframe tbody tr th {\n",
       "        vertical-align: top;\n",
       "    }\n",
       "\n",
       "    .dataframe thead th {\n",
       "        text-align: right;\n",
       "    }\n",
       "</style>\n",
       "<table border=\"1\" class=\"dataframe\">\n",
       "  <thead>\n",
       "    <tr style=\"text-align: right;\">\n",
       "      <th></th>\n",
       "      <th>0</th>\n",
       "      <th>1</th>\n",
       "      <th>2</th>\n",
       "      <th>3</th>\n",
       "      <th>4</th>\n",
       "      <th>5</th>\n",
       "    </tr>\n",
       "  </thead>\n",
       "  <tbody>\n",
       "    <tr>\n",
       "      <th>0</th>\n",
       "      <td>0</td>\n",
       "      <td>1</td>\n",
       "      <td>0</td>\n",
       "      <td>0</td>\n",
       "      <td>1</td>\n",
       "      <td>0</td>\n",
       "    </tr>\n",
       "    <tr>\n",
       "      <th>1</th>\n",
       "      <td>1</td>\n",
       "      <td>0</td>\n",
       "      <td>1</td>\n",
       "      <td>1</td>\n",
       "      <td>1</td>\n",
       "      <td>0</td>\n",
       "    </tr>\n",
       "    <tr>\n",
       "      <th>2</th>\n",
       "      <td>0</td>\n",
       "      <td>1</td>\n",
       "      <td>0</td>\n",
       "      <td>1</td>\n",
       "      <td>0</td>\n",
       "      <td>0</td>\n",
       "    </tr>\n",
       "    <tr>\n",
       "      <th>3</th>\n",
       "      <td>0</td>\n",
       "      <td>1</td>\n",
       "      <td>1</td>\n",
       "      <td>0</td>\n",
       "      <td>1</td>\n",
       "      <td>0</td>\n",
       "    </tr>\n",
       "    <tr>\n",
       "      <th>4</th>\n",
       "      <td>1</td>\n",
       "      <td>1</td>\n",
       "      <td>0</td>\n",
       "      <td>1</td>\n",
       "      <td>0</td>\n",
       "      <td>0</td>\n",
       "    </tr>\n",
       "    <tr>\n",
       "      <th>5</th>\n",
       "      <td>0</td>\n",
       "      <td>0</td>\n",
       "      <td>0</td>\n",
       "      <td>0</td>\n",
       "      <td>0</td>\n",
       "      <td>0</td>\n",
       "    </tr>\n",
       "  </tbody>\n",
       "</table>\n",
       "</div>"
      ],
      "text/plain": [
       "   0  1  2  3  4  5\n",
       "0  0  1  0  0  1  0\n",
       "1  1  0  1  1  1  0\n",
       "2  0  1  0  1  0  0\n",
       "3  0  1  1  0  1  0\n",
       "4  1  1  0  1  0  0\n",
       "5  0  0  0  0  0  0"
      ]
     },
     "execution_count": 338,
     "metadata": {},
     "output_type": "execute_result"
    }
   ],
   "source": [
    "graph.adjacency_matrix"
   ]
  },
  {
   "cell_type": "code",
   "execution_count": 339,
   "id": "4768ac27-d4ea-4a4c-9ef5-06ce2a4eb9a2",
   "metadata": {},
   "outputs": [],
   "source": [
    "graph.add_edges((0,3))"
   ]
  },
  {
   "cell_type": "code",
   "execution_count": 340,
   "id": "80eb1d74-c064-4130-8619-70bfd2f13862",
   "metadata": {},
   "outputs": [
    {
     "data": {
      "text/plain": [
       "0: [1, 4, 3]\n",
       "1: [0, 2, 3, 4]\n",
       "2: [1, 3]\n",
       "3: [1, 2, 4, 0]\n",
       "4: [0, 1, 3]\n",
       "5: []"
      ]
     },
     "execution_count": 340,
     "metadata": {},
     "output_type": "execute_result"
    }
   ],
   "source": [
    "graph"
   ]
  },
  {
   "cell_type": "code",
   "execution_count": 341,
   "id": "a2a8d178-c7f1-4590-8b1c-56dca78c65cc",
   "metadata": {},
   "outputs": [
    {
     "data": {
      "text/html": [
       "<div>\n",
       "<style scoped>\n",
       "    .dataframe tbody tr th:only-of-type {\n",
       "        vertical-align: middle;\n",
       "    }\n",
       "\n",
       "    .dataframe tbody tr th {\n",
       "        vertical-align: top;\n",
       "    }\n",
       "\n",
       "    .dataframe thead th {\n",
       "        text-align: right;\n",
       "    }\n",
       "</style>\n",
       "<table border=\"1\" class=\"dataframe\">\n",
       "  <thead>\n",
       "    <tr style=\"text-align: right;\">\n",
       "      <th></th>\n",
       "      <th>0</th>\n",
       "      <th>1</th>\n",
       "      <th>2</th>\n",
       "      <th>3</th>\n",
       "      <th>4</th>\n",
       "      <th>5</th>\n",
       "    </tr>\n",
       "  </thead>\n",
       "  <tbody>\n",
       "    <tr>\n",
       "      <th>0</th>\n",
       "      <td>0</td>\n",
       "      <td>1</td>\n",
       "      <td>0</td>\n",
       "      <td>1</td>\n",
       "      <td>1</td>\n",
       "      <td>0</td>\n",
       "    </tr>\n",
       "    <tr>\n",
       "      <th>1</th>\n",
       "      <td>1</td>\n",
       "      <td>0</td>\n",
       "      <td>1</td>\n",
       "      <td>1</td>\n",
       "      <td>1</td>\n",
       "      <td>0</td>\n",
       "    </tr>\n",
       "    <tr>\n",
       "      <th>2</th>\n",
       "      <td>0</td>\n",
       "      <td>1</td>\n",
       "      <td>0</td>\n",
       "      <td>1</td>\n",
       "      <td>0</td>\n",
       "      <td>0</td>\n",
       "    </tr>\n",
       "    <tr>\n",
       "      <th>3</th>\n",
       "      <td>1</td>\n",
       "      <td>1</td>\n",
       "      <td>1</td>\n",
       "      <td>0</td>\n",
       "      <td>1</td>\n",
       "      <td>0</td>\n",
       "    </tr>\n",
       "    <tr>\n",
       "      <th>4</th>\n",
       "      <td>1</td>\n",
       "      <td>1</td>\n",
       "      <td>0</td>\n",
       "      <td>1</td>\n",
       "      <td>0</td>\n",
       "      <td>0</td>\n",
       "    </tr>\n",
       "    <tr>\n",
       "      <th>5</th>\n",
       "      <td>0</td>\n",
       "      <td>0</td>\n",
       "      <td>0</td>\n",
       "      <td>0</td>\n",
       "      <td>0</td>\n",
       "      <td>0</td>\n",
       "    </tr>\n",
       "  </tbody>\n",
       "</table>\n",
       "</div>"
      ],
      "text/plain": [
       "   0  1  2  3  4  5\n",
       "0  0  1  0  1  1  0\n",
       "1  1  0  1  1  1  0\n",
       "2  0  1  0  1  0  0\n",
       "3  1  1  1  0  1  0\n",
       "4  1  1  0  1  0  0\n",
       "5  0  0  0  0  0  0"
      ]
     },
     "execution_count": 341,
     "metadata": {},
     "output_type": "execute_result"
    }
   ],
   "source": [
    "graph.adjacency_matrix"
   ]
  },
  {
   "cell_type": "code",
   "execution_count": 342,
   "id": "fc84d9fe-c051-45ab-ae72-801f8789e056",
   "metadata": {},
   "outputs": [],
   "source": [
    "graph.remove_edges((3,0))"
   ]
  },
  {
   "cell_type": "code",
   "execution_count": 343,
   "id": "b632207d-0b32-4d31-b6c7-3fed0b3060de",
   "metadata": {},
   "outputs": [
    {
     "data": {
      "text/plain": [
       "0: [1, 4]\n",
       "1: [0, 2, 3, 4]\n",
       "2: [1, 3]\n",
       "3: [1, 2, 4]\n",
       "4: [0, 1, 3]\n",
       "5: []"
      ]
     },
     "execution_count": 343,
     "metadata": {},
     "output_type": "execute_result"
    }
   ],
   "source": [
    "graph"
   ]
  },
  {
   "cell_type": "code",
   "execution_count": 344,
   "id": "45fc3e1e-b029-4780-bd3e-d3a66e74871a",
   "metadata": {},
   "outputs": [
    {
     "data": {
      "text/html": [
       "<div>\n",
       "<style scoped>\n",
       "    .dataframe tbody tr th:only-of-type {\n",
       "        vertical-align: middle;\n",
       "    }\n",
       "\n",
       "    .dataframe tbody tr th {\n",
       "        vertical-align: top;\n",
       "    }\n",
       "\n",
       "    .dataframe thead th {\n",
       "        text-align: right;\n",
       "    }\n",
       "</style>\n",
       "<table border=\"1\" class=\"dataframe\">\n",
       "  <thead>\n",
       "    <tr style=\"text-align: right;\">\n",
       "      <th></th>\n",
       "      <th>0</th>\n",
       "      <th>1</th>\n",
       "      <th>2</th>\n",
       "      <th>3</th>\n",
       "      <th>4</th>\n",
       "      <th>5</th>\n",
       "    </tr>\n",
       "  </thead>\n",
       "  <tbody>\n",
       "    <tr>\n",
       "      <th>0</th>\n",
       "      <td>0</td>\n",
       "      <td>1</td>\n",
       "      <td>0</td>\n",
       "      <td>0</td>\n",
       "      <td>1</td>\n",
       "      <td>0</td>\n",
       "    </tr>\n",
       "    <tr>\n",
       "      <th>1</th>\n",
       "      <td>1</td>\n",
       "      <td>0</td>\n",
       "      <td>1</td>\n",
       "      <td>1</td>\n",
       "      <td>1</td>\n",
       "      <td>0</td>\n",
       "    </tr>\n",
       "    <tr>\n",
       "      <th>2</th>\n",
       "      <td>0</td>\n",
       "      <td>1</td>\n",
       "      <td>0</td>\n",
       "      <td>1</td>\n",
       "      <td>0</td>\n",
       "      <td>0</td>\n",
       "    </tr>\n",
       "    <tr>\n",
       "      <th>3</th>\n",
       "      <td>0</td>\n",
       "      <td>1</td>\n",
       "      <td>1</td>\n",
       "      <td>0</td>\n",
       "      <td>1</td>\n",
       "      <td>0</td>\n",
       "    </tr>\n",
       "    <tr>\n",
       "      <th>4</th>\n",
       "      <td>1</td>\n",
       "      <td>1</td>\n",
       "      <td>0</td>\n",
       "      <td>1</td>\n",
       "      <td>0</td>\n",
       "      <td>0</td>\n",
       "    </tr>\n",
       "    <tr>\n",
       "      <th>5</th>\n",
       "      <td>0</td>\n",
       "      <td>0</td>\n",
       "      <td>0</td>\n",
       "      <td>0</td>\n",
       "      <td>0</td>\n",
       "      <td>0</td>\n",
       "    </tr>\n",
       "  </tbody>\n",
       "</table>\n",
       "</div>"
      ],
      "text/plain": [
       "   0  1  2  3  4  5\n",
       "0  0  1  0  0  1  0\n",
       "1  1  0  1  1  1  0\n",
       "2  0  1  0  1  0  0\n",
       "3  0  1  1  0  1  0\n",
       "4  1  1  0  1  0  0\n",
       "5  0  0  0  0  0  0"
      ]
     },
     "execution_count": 344,
     "metadata": {},
     "output_type": "execute_result"
    }
   ],
   "source": [
    "graph.adjacency_matrix"
   ]
  },
  {
   "cell_type": "code",
   "execution_count": 345,
   "id": "85aa5b5a-0e35-4472-9822-20b598432652",
   "metadata": {},
   "outputs": [
    {
     "data": {
      "text/plain": [
       "{0: [1, 4], 1: [0, 2, 3, 4], 2: [1, 3], 3: [1, 2, 4], 4: [0, 1, 3], 5: []}"
      ]
     },
     "execution_count": 345,
     "metadata": {},
     "output_type": "execute_result"
    }
   ],
   "source": [
    "graph.adjacency_list"
   ]
  },
  {
   "cell_type": "code",
   "execution_count": 346,
   "id": "b3183e94-6ddd-42ca-9469-621e8c275556",
   "metadata": {},
   "outputs": [
    {
     "data": {
      "text/plain": [
       "6"
      ]
     },
     "execution_count": 346,
     "metadata": {},
     "output_type": "execute_result"
    }
   ],
   "source": [
    "len(graph)"
   ]
  },
  {
   "cell_type": "code",
   "execution_count": 347,
   "id": "aa33a3a0-f179-4914-97a0-bcc335fc2e60",
   "metadata": {},
   "outputs": [],
   "source": [
    "graph.add_edges((2,5), (3,5))"
   ]
  },
  {
   "cell_type": "code",
   "execution_count": 348,
   "id": "2b5bea9d-85cb-4534-9112-033b192bc589",
   "metadata": {},
   "outputs": [
    {
     "data": {
      "text/plain": [
       "0: [1, 4]\n",
       "1: [0, 2, 3, 4]\n",
       "2: [1, 3, 5]\n",
       "3: [1, 2, 4, 5]\n",
       "4: [0, 1, 3]\n",
       "5: [2, 3]"
      ]
     },
     "execution_count": 348,
     "metadata": {},
     "output_type": "execute_result"
    }
   ],
   "source": [
    "graph"
   ]
  },
  {
   "cell_type": "markdown",
   "id": "5f64f440-41bb-43c9-a874-d5645cd3e75f",
   "metadata": {},
   "source": [
    "# Breadth First Search (BFS)"
   ]
  },
  {
   "cell_type": "code",
   "execution_count": 349,
   "id": "abd3811e-1247-4f76-9d53-a9166189332e",
   "metadata": {},
   "outputs": [],
   "source": [
    "class Queue:\n",
    "\n",
    "    def __init__(self, *args):\n",
    "        self.queue = list(args)\n",
    "        self.generator = self.__iter__()\n",
    "\n",
    "    def __call__(self):\n",
    "        return self.queue\n",
    "\n",
    "    def __len__(self):\n",
    "        return len(self.queue)\n",
    "\n",
    "    def __iter__(self):\n",
    "        for i in self.queue:\n",
    "            yield i\n",
    "\n",
    "    def __repr__(self):\n",
    "        return f\"{self.queue}\"\n",
    "\n",
    "    def enqueue(self, i):\n",
    "        self.queue.append(i)\n",
    "\n",
    "    def dequeue(self):\n",
    "        try:\n",
    "            return next(self.generator)\n",
    "        except:\n",
    "            self.generator = self.__iter__()\n",
    "            return next(self.generator)        \n",
    "\n",
    "    def pop(self):\n",
    "        if self.__len__() > 0:\n",
    "            arr = self.queue.copy()\n",
    "            self.queue = self.queue[1:]\n",
    "            return arr[0]"
   ]
  },
  {
   "cell_type": "code",
   "execution_count": 351,
   "id": "02fb56d0-a122-4f92-91a5-3cbbb1cfaf86",
   "metadata": {},
   "outputs": [],
   "source": [
    "def bfs(graph, root):\n",
    "    '''\n",
    "    RETURNS -> node: (distance from root, path parent of node)\n",
    "    '''\n",
    "    \n",
    "    queue = Queue()\n",
    "    discovered = [False] * len(graph)\n",
    "    distance = [None] * len(graph)\n",
    "    parent = [None] * len(graph)\n",
    "\n",
    "    queue.enqueue(root)\n",
    "    discovered[root] = True\n",
    "    distance[root] = 0\n",
    "\n",
    "    while all(discovered)==False:\n",
    "        current = queue.dequeue()\n",
    "        connections = graph.adjacency_list[current]\n",
    "        for node in connections:\n",
    "            if discovered[node] == False:\n",
    "                queue.enqueue(node)\n",
    "                discovered[node] = True\n",
    "                distance[node] = 1 + distance[current]\n",
    "                parent[node] = current\n",
    "            \n",
    "    return dict(enumerate(zip(distance,parent)))"
   ]
  },
  {
   "cell_type": "code",
   "execution_count": 395,
   "id": "7583600a-30e1-4af5-9d8b-5e5118c62645",
   "metadata": {},
   "outputs": [],
   "source": [
    "b = bfs(graph, 0)"
   ]
  },
  {
   "cell_type": "code",
   "execution_count": 396,
   "id": "23bca6c3-7b24-4b28-b5a7-30d96e98f34d",
   "metadata": {},
   "outputs": [
    {
     "data": {
      "text/plain": [
       "{0: (0, None), 1: (1, 0), 2: (2, 1), 3: (2, 1), 4: (1, 0), 5: (3, 2)}"
      ]
     },
     "execution_count": 396,
     "metadata": {},
     "output_type": "execute_result"
    }
   ],
   "source": [
    "b"
   ]
  },
  {
   "cell_type": "code",
   "execution_count": null,
   "id": "0ee41e0b-612a-42a2-92f5-a28f08c5f1b1",
   "metadata": {},
   "outputs": [],
   "source": []
  },
  {
   "cell_type": "markdown",
   "id": "0aa968e3-a48e-476e-a7d1-6873864c6cc7",
   "metadata": {},
   "source": [
    "# Depth First Search"
   ]
  },
  {
   "cell_type": "code",
   "execution_count": 383,
   "id": "17aa491a-634e-4c3f-80f9-8dafd0c3671b",
   "metadata": {},
   "outputs": [],
   "source": [
    "class Stack:\n",
    "\n",
    "    def __init__(self, *args):\n",
    "        self.stack = list(args)\n",
    "        self.generator = self.__iter__()\n",
    "\n",
    "    def __call__(self):\n",
    "        return self.stack\n",
    "\n",
    "    def __len__(self):\n",
    "        return len(self.stack)\n",
    "\n",
    "    def __iter__(self):\n",
    "        for i in self.stack[::-1]:\n",
    "            yield i\n",
    "\n",
    "    def __repr__(self):\n",
    "        return f\"{self.stack}\"\n",
    "\n",
    "    def push(self, i):\n",
    "        self.stack.append(i)\n",
    "        self.generator = self.__iter__()\n",
    "\n",
    "    def pull(self):\n",
    "        try:\n",
    "            return next(self.generator)\n",
    "        except:\n",
    "            self.generator = self.__iter__()\n",
    "            return next(self.generator)        \n",
    "\n",
    "    def pop(self):\n",
    "        if self.__len__() > 0:\n",
    "            arr = self.stack.copy()\n",
    "            self.queue = self.queue[:-1]\n",
    "            return arr[-1]"
   ]
  },
  {
   "cell_type": "code",
   "execution_count": 407,
   "id": "b1447a53-3dde-483d-a2f9-2e22e08d67d4",
   "metadata": {},
   "outputs": [],
   "source": [
    "def dfs(graph, root):\n",
    "    '''\n",
    "    RETURNS -> node: (distance from root, path parent of node)\n",
    "    (distance does not matter much here)\n",
    "    '''   \n",
    "    stack = Stack()\n",
    "    discovered = [False] * len(graph)\n",
    "    distance = [None] * len(graph)\n",
    "    parent = [None] * len(graph)\n",
    "    result = []\n",
    "    \n",
    "    stack.push(root)\n",
    "    # discovered[root] = True\n",
    "    distance[root] = 0\n",
    "\n",
    "    while all(discovered)==False:\n",
    "        current = stack.pull()\n",
    "        discovered[current] = True\n",
    "        # distance[current] = \n",
    "        result.append(current)\n",
    "        connections = graph.adjacency_list[current]\n",
    "        for node in connections:\n",
    "            if discovered[node] == False:\n",
    "                stack.push(node)\n",
    "                # discovered[node] = True\n",
    "                distance[node] = 1 + distance[current]\n",
    "                parent[node] = current\n",
    "\n",
    "    return dict(enumerate(zip(distance,parent)))"
   ]
  },
  {
   "cell_type": "code",
   "execution_count": 408,
   "id": "0d885e15-a2cc-45c5-ac66-8befbc54d1a3",
   "metadata": {},
   "outputs": [],
   "source": [
    "d = dfs(graph, 0)"
   ]
  },
  {
   "cell_type": "code",
   "execution_count": 409,
   "id": "5ab1813b-aa19-4b59-9575-35f5bb29e7a6",
   "metadata": {},
   "outputs": [
    {
     "data": {
      "text/plain": [
       "{0: (0, None), 1: (5, 2), 2: (4, 5), 3: (2, 4), 4: (1, 0), 5: (3, 3)}"
      ]
     },
     "execution_count": 409,
     "metadata": {},
     "output_type": "execute_result"
    }
   ],
   "source": [
    "d"
   ]
  },
  {
   "cell_type": "code",
   "execution_count": 401,
   "id": "a301761c-178c-458c-8355-e3349654cd01",
   "metadata": {},
   "outputs": [
    {
     "data": {
      "text/plain": [
       "{0: (0, None), 1: (1, 0), 2: (2, 1), 3: (2, 1), 4: (1, 0), 5: (3, 2)}"
      ]
     },
     "execution_count": 401,
     "metadata": {},
     "output_type": "execute_result"
    }
   ],
   "source": [
    "b"
   ]
  },
  {
   "cell_type": "code",
   "execution_count": null,
   "id": "f84966c6-b927-4b2c-bc3c-44cf40c07344",
   "metadata": {},
   "outputs": [],
   "source": []
  },
  {
   "cell_type": "markdown",
   "id": "0be71a73-7fcb-466a-9b0d-d44259588947",
   "metadata": {},
   "source": [
    "# Weighted and Directed Graphs"
   ]
  },
  {
   "cell_type": "code",
   "execution_count": 412,
   "id": "e1dd9bd8-c29c-406f-9dd4-47c8384293cd",
   "metadata": {},
   "outputs": [],
   "source": [
    "num_nodes2 = 9\n",
    "edges2 = ((0,1,3), (0,3,2), (0,8,4), (1,7,4), (2,7,2), (2,3,6), (2,5,1), (3,4,1), (4,8,8), (5,6,8))"
   ]
  },
  {
   "cell_type": "code",
   "execution_count": 413,
   "id": "cad06f54-b80e-42b6-9f78-d4821c56e00e",
   "metadata": {},
   "outputs": [],
   "source": [
    "num_edges3 = 5\n",
    "edges3 = ((0,1), (1,2), (2,3), (2,4), (4,2), (3,0))\n",
    "directed3 = True"
   ]
  },
  {
   "cell_type": "code",
   "execution_count": 444,
   "id": "5f77e6ba-a95b-4baf-b12f-eedbc5099a53",
   "metadata": {},
   "outputs": [],
   "source": [
    "class WeightedAndDirectedGraph:\n",
    "\n",
    "    def __init__(self, num_nodes, edges, weighted=False, directed=False):\n",
    "        self.num_nodes = num_nodes\n",
    "        self.weighted = weighted\n",
    "        self.directed = directed\n",
    "\n",
    "        self.data = [[] for _ in range(num_nodes)]\n",
    "        # self.weights = [[] for _ in range(num_nodes)]\n",
    "\n",
    "        for edge in edges:\n",
    "            if self.weighted:\n",
    "                n1, n2, weight = edge\n",
    "                self.data[n1].append((n2, weight))\n",
    "                if not self.directed:\n",
    "                    self.data[n2].append((n1, weight))\n",
    "            else:\n",
    "                n1, n2 = edge\n",
    "                self.data[n1].append(n2)\n",
    "                if not self.directed:\n",
    "                    self.data[n2].append(n1)\n",
    "\n",
    "    def __repr__(self):\n",
    "        return '\\n'.join([f\"{i}: {j}\" for i,j in enumerate(self.data)])\n",
    "\n",
    "    def __len__(self):\n",
    "        return len(self.adjacency_list)\n",
    "\n",
    "    def add_edges(self, *edges):\n",
    "        if self.weighted:\n",
    "            for n1, n2, weight in edges:\n",
    "                self.data[n1].append((n2, weight))\n",
    "                if not self.directed:\n",
    "                    self.data[n2].append((n1, weight))\n",
    "        else:\n",
    "            for n1, n2 in edges:\n",
    "                self.data[n1].append(n2)\n",
    "                if not self.directed:\n",
    "                    self.data[n2].apeend(n1)\n",
    "\n",
    "    def remove_edges(self, *edges):\n",
    "        if self.weighted:\n",
    "            for n1, n2, weight in edges:\n",
    "                self.data[n1].remove((n2, weight))\n",
    "                if not self.directed:\n",
    "                    self.data[n2].remove((n1, weight))\n",
    "        else:\n",
    "            for n1, n2 in edges:\n",
    "                self.data[n1].remove(n2)\n",
    "                if not self.directed:\n",
    "                    self.data[n2].remove(n1)\n",
    "\n",
    "    @property\n",
    "    def adjacency_matrix(self):\n",
    "        arr = np.zeros((self.num_nodes, self.num_nodes))\n",
    "        arr = np.vectorize(lambda x: int(x))(arr)\n",
    "        df = pd.DataFrame(arr, columns = range(self.num_nodes), index = range(self.num_nodes))\n",
    "        for n1, N2 in enumerate([i for i in self.data if len(i)>0]):\n",
    "            if self.weighted:\n",
    "                for n2, weight in N2:\n",
    "                    df.loc[n1,n2] = weight\n",
    "            else:\n",
    "                for n2 in N2:\n",
    "                    df.loc[n1,n2] = 1\n",
    "        return df\n",
    "\n",
    "    @property\n",
    "    def adjacency_list(self):\n",
    "        return dict(enumerate(self.data))\n",
    "                "
   ]
  },
  {
   "cell_type": "code",
   "execution_count": 445,
   "id": "29e056b1-4682-48b2-bf1a-5f17cb86be63",
   "metadata": {},
   "outputs": [],
   "source": [
    "w = WeightedAndDirectedGraph(num_nodes2, edges2, True, True)"
   ]
  },
  {
   "cell_type": "code",
   "execution_count": 446,
   "id": "ffafd71f-0626-4752-849b-736a75d74e3a",
   "metadata": {},
   "outputs": [
    {
     "data": {
      "text/plain": [
       "{0: [(1, 3), (3, 2), (8, 4)],\n",
       " 1: [(7, 4)],\n",
       " 2: [(7, 2), (3, 6), (5, 1)],\n",
       " 3: [(4, 1)],\n",
       " 4: [(8, 8)],\n",
       " 5: [(6, 8)],\n",
       " 6: [],\n",
       " 7: [],\n",
       " 8: []}"
      ]
     },
     "execution_count": 446,
     "metadata": {},
     "output_type": "execute_result"
    }
   ],
   "source": [
    "w.adjacency_list"
   ]
  },
  {
   "cell_type": "code",
   "execution_count": 447,
   "id": "c6484677-b78f-4e08-b0ae-af34b63b7b4a",
   "metadata": {},
   "outputs": [
    {
     "data": {
      "text/plain": [
       "((0, 1, 3),\n",
       " (0, 3, 2),\n",
       " (0, 8, 4),\n",
       " (1, 7, 4),\n",
       " (2, 7, 2),\n",
       " (2, 3, 6),\n",
       " (2, 5, 1),\n",
       " (3, 4, 1),\n",
       " (4, 8, 8),\n",
       " (5, 6, 8))"
      ]
     },
     "execution_count": 447,
     "metadata": {},
     "output_type": "execute_result"
    }
   ],
   "source": [
    "edges2"
   ]
  },
  {
   "cell_type": "code",
   "execution_count": 448,
   "id": "fb6ec02d-cc1c-49f7-9aff-267dbd1d20ad",
   "metadata": {},
   "outputs": [
    {
     "data": {
      "text/html": [
       "<div>\n",
       "<style scoped>\n",
       "    .dataframe tbody tr th:only-of-type {\n",
       "        vertical-align: middle;\n",
       "    }\n",
       "\n",
       "    .dataframe tbody tr th {\n",
       "        vertical-align: top;\n",
       "    }\n",
       "\n",
       "    .dataframe thead th {\n",
       "        text-align: right;\n",
       "    }\n",
       "</style>\n",
       "<table border=\"1\" class=\"dataframe\">\n",
       "  <thead>\n",
       "    <tr style=\"text-align: right;\">\n",
       "      <th></th>\n",
       "      <th>0</th>\n",
       "      <th>1</th>\n",
       "      <th>2</th>\n",
       "      <th>3</th>\n",
       "      <th>4</th>\n",
       "      <th>5</th>\n",
       "      <th>6</th>\n",
       "      <th>7</th>\n",
       "      <th>8</th>\n",
       "    </tr>\n",
       "  </thead>\n",
       "  <tbody>\n",
       "    <tr>\n",
       "      <th>0</th>\n",
       "      <td>0</td>\n",
       "      <td>3</td>\n",
       "      <td>0</td>\n",
       "      <td>2</td>\n",
       "      <td>0</td>\n",
       "      <td>0</td>\n",
       "      <td>0</td>\n",
       "      <td>0</td>\n",
       "      <td>4</td>\n",
       "    </tr>\n",
       "    <tr>\n",
       "      <th>1</th>\n",
       "      <td>0</td>\n",
       "      <td>0</td>\n",
       "      <td>0</td>\n",
       "      <td>0</td>\n",
       "      <td>0</td>\n",
       "      <td>0</td>\n",
       "      <td>0</td>\n",
       "      <td>4</td>\n",
       "      <td>0</td>\n",
       "    </tr>\n",
       "    <tr>\n",
       "      <th>2</th>\n",
       "      <td>0</td>\n",
       "      <td>0</td>\n",
       "      <td>0</td>\n",
       "      <td>6</td>\n",
       "      <td>0</td>\n",
       "      <td>1</td>\n",
       "      <td>0</td>\n",
       "      <td>2</td>\n",
       "      <td>0</td>\n",
       "    </tr>\n",
       "    <tr>\n",
       "      <th>3</th>\n",
       "      <td>0</td>\n",
       "      <td>0</td>\n",
       "      <td>0</td>\n",
       "      <td>0</td>\n",
       "      <td>1</td>\n",
       "      <td>0</td>\n",
       "      <td>0</td>\n",
       "      <td>0</td>\n",
       "      <td>0</td>\n",
       "    </tr>\n",
       "    <tr>\n",
       "      <th>4</th>\n",
       "      <td>0</td>\n",
       "      <td>0</td>\n",
       "      <td>0</td>\n",
       "      <td>0</td>\n",
       "      <td>0</td>\n",
       "      <td>0</td>\n",
       "      <td>0</td>\n",
       "      <td>0</td>\n",
       "      <td>8</td>\n",
       "    </tr>\n",
       "    <tr>\n",
       "      <th>5</th>\n",
       "      <td>0</td>\n",
       "      <td>0</td>\n",
       "      <td>0</td>\n",
       "      <td>0</td>\n",
       "      <td>0</td>\n",
       "      <td>0</td>\n",
       "      <td>8</td>\n",
       "      <td>0</td>\n",
       "      <td>0</td>\n",
       "    </tr>\n",
       "    <tr>\n",
       "      <th>6</th>\n",
       "      <td>0</td>\n",
       "      <td>0</td>\n",
       "      <td>0</td>\n",
       "      <td>0</td>\n",
       "      <td>0</td>\n",
       "      <td>0</td>\n",
       "      <td>0</td>\n",
       "      <td>0</td>\n",
       "      <td>0</td>\n",
       "    </tr>\n",
       "    <tr>\n",
       "      <th>7</th>\n",
       "      <td>0</td>\n",
       "      <td>0</td>\n",
       "      <td>0</td>\n",
       "      <td>0</td>\n",
       "      <td>0</td>\n",
       "      <td>0</td>\n",
       "      <td>0</td>\n",
       "      <td>0</td>\n",
       "      <td>0</td>\n",
       "    </tr>\n",
       "    <tr>\n",
       "      <th>8</th>\n",
       "      <td>0</td>\n",
       "      <td>0</td>\n",
       "      <td>0</td>\n",
       "      <td>0</td>\n",
       "      <td>0</td>\n",
       "      <td>0</td>\n",
       "      <td>0</td>\n",
       "      <td>0</td>\n",
       "      <td>0</td>\n",
       "    </tr>\n",
       "  </tbody>\n",
       "</table>\n",
       "</div>"
      ],
      "text/plain": [
       "   0  1  2  3  4  5  6  7  8\n",
       "0  0  3  0  2  0  0  0  0  4\n",
       "1  0  0  0  0  0  0  0  4  0\n",
       "2  0  0  0  6  0  1  0  2  0\n",
       "3  0  0  0  0  1  0  0  0  0\n",
       "4  0  0  0  0  0  0  0  0  8\n",
       "5  0  0  0  0  0  0  8  0  0\n",
       "6  0  0  0  0  0  0  0  0  0\n",
       "7  0  0  0  0  0  0  0  0  0\n",
       "8  0  0  0  0  0  0  0  0  0"
      ]
     },
     "execution_count": 448,
     "metadata": {},
     "output_type": "execute_result"
    }
   ],
   "source": [
    " w.adjacency_matrix"
   ]
  },
  {
   "cell_type": "markdown",
   "id": "23683e39-fca3-4aa2-bd32-659571f66c48",
   "metadata": {},
   "source": [
    "# Shortest Path"
   ]
  },
  {
   "cell_type": "markdown",
   "id": "90f5c14e-a613-43cb-af8c-4a50bc78e12a",
   "metadata": {},
   "source": [
    "# Dijkstra's algorithm"
   ]
  },
  {
   "cell_type": "code",
   "execution_count": 449,
   "id": "b3b44e6b-5e2b-4a40-bb62-32d69f53a5bb",
   "metadata": {},
   "outputs": [],
   "source": [
    "num_nodes4 = 6\n",
    "edges4 = ((0,1,4), (0,2,2), (1,2,5), (1,3,10), (2,4,3), (4,3,4), (3,5,11))"
   ]
  },
  {
   "cell_type": "code",
   "execution_count": 517,
   "id": "735012c0-91b9-4557-ba52-0933642392b5",
   "metadata": {},
   "outputs": [],
   "source": [
    "def update_distances(graph, current, distance, parent=None):\n",
    "    '''Update the distances of the current node's neighbour'''\n",
    "    data = graph.data[current]\n",
    "    neighbours = [i[0] for i in data]\n",
    "    weights = [i[1] for i in data]\n",
    "    for i, node in enumerate(neighbours):\n",
    "        weight = weights[i]\n",
    "        if distance[current] + weight < distance[node]:\n",
    "            distance[node] = distance[current] + weight\n",
    "            if parent:\n",
    "                parent[node] = current\n",
    "    return distance, parent\n",
    "\n",
    "\n",
    "def pick_nect_node(distance, visited):\n",
    "    '''Pick the next unvisited node at the smallest distance'''\n",
    "    min_distance = float('inf')\n",
    "    min_node = None\n",
    "\n",
    "    for node in range(len(distance)):\n",
    "        if (not visited[node]) and (distance[node] < min_distance):\n",
    "            min_node = node\n",
    "            min_distance = distance[node]\n",
    "\n",
    "    return min_node"
   ]
  },
  {
   "cell_type": "code",
   "execution_count": 522,
   "id": "78faa24a-fb2f-4db7-ae6d-32a9ba811fe5",
   "metadata": {},
   "outputs": [],
   "source": [
    "def shortest_path(weightedGraph, source, target):\n",
    "    visited = [False] * len(weightedGraph)\n",
    "    parent = [None] * len(weightedGraph)\n",
    "    distance = [float('inf')] * len(weightedGraph)\n",
    "    queue = Queue()\n",
    "\n",
    "    distance[source] = 0\n",
    "    queue.enqueue(source)\n",
    "    idx = 0\n",
    "\n",
    "    while not visited[target]:\n",
    "        current = queue.dequeue()\n",
    "        visited[current] = True\n",
    "        distance, parent = update_distances(weightedGraph, current, distance, parent)\n",
    "        next_node = pick_nect_node(distance, visited)\n",
    "        if next_node:\n",
    "            queue.enqueue(next_node)\n",
    "        \n",
    "\n",
    "    return distance[target], parent"
   ]
  },
  {
   "cell_type": "code",
   "execution_count": 523,
   "id": "a53f26e2-15a1-4040-b880-067527339aa8",
   "metadata": {},
   "outputs": [],
   "source": [
    "g1 = WeightedAndDirectedGraph(num_nodes4, edges4, True)"
   ]
  },
  {
   "cell_type": "code",
   "execution_count": 524,
   "id": "9e4d7823-6689-4907-9e3e-6ccd239e28cc",
   "metadata": {},
   "outputs": [
    {
     "data": {
      "text/plain": [
       "0: [(1, 4), (2, 2)]\n",
       "1: [(0, 4), (2, 5), (3, 10)]\n",
       "2: [(0, 2), (1, 5), (4, 3)]\n",
       "3: [(1, 10), (4, 4), (5, 11)]\n",
       "4: [(2, 3), (3, 4)]\n",
       "5: [(3, 11)]"
      ]
     },
     "execution_count": 524,
     "metadata": {},
     "output_type": "execute_result"
    }
   ],
   "source": [
    "g1"
   ]
  },
  {
   "cell_type": "code",
   "execution_count": 525,
   "id": "793c5aed-1823-48d9-a60c-24dede30701c",
   "metadata": {},
   "outputs": [
    {
     "data": {
      "text/plain": [
       "(20, [None, 0, 0, 4, 2, 3])"
      ]
     },
     "execution_count": 525,
     "metadata": {},
     "output_type": "execute_result"
    }
   ],
   "source": [
    "shortest_path(g1, 0, 5)"
   ]
  },
  {
   "cell_type": "code",
   "execution_count": 526,
   "id": "9276b6d8-26ee-41e3-9e1d-2f9a6891d3f4",
   "metadata": {},
   "outputs": [],
   "source": [
    "g2 = WeightedAndDirectedGraph(num_nodes2, edges2, True)"
   ]
  },
  {
   "cell_type": "code",
   "execution_count": 527,
   "id": "ee3ac290-2a96-4bfb-a404-14c078bc58a2",
   "metadata": {},
   "outputs": [
    {
     "data": {
      "text/plain": [
       "0: [(1, 3), (3, 2), (8, 4)]\n",
       "1: [(0, 3), (7, 4)]\n",
       "2: [(7, 2), (3, 6), (5, 1)]\n",
       "3: [(0, 2), (2, 6), (4, 1)]\n",
       "4: [(3, 1), (8, 8)]\n",
       "5: [(2, 1), (6, 8)]\n",
       "6: [(5, 8)]\n",
       "7: [(1, 4), (2, 2)]\n",
       "8: [(0, 4), (4, 8)]"
      ]
     },
     "execution_count": 527,
     "metadata": {},
     "output_type": "execute_result"
    }
   ],
   "source": [
    "g2"
   ]
  },
  {
   "cell_type": "code",
   "execution_count": 532,
   "id": "99135800-02ca-415c-a131-58adc6196212",
   "metadata": {},
   "outputs": [
    {
     "data": {
      "text/plain": [
       "(3, [None, 7, 5, 2, None, None, 5, 2, None])"
      ]
     },
     "execution_count": 532,
     "metadata": {},
     "output_type": "execute_result"
    }
   ],
   "source": [
    "shortest_path(g2, 5, 7)"
   ]
  },
  {
   "cell_type": "markdown",
   "id": "58873e7c-e9ad-492f-95b1-74dbb1aea2b2",
   "metadata": {},
   "source": [
    "### "
   ]
  },
  {
   "cell_type": "code",
   "execution_count": null,
   "id": "09f157bc-f002-4c3f-b5ca-194113fe606e",
   "metadata": {},
   "outputs": [],
   "source": []
  }
 ],
 "metadata": {
  "kernelspec": {
   "display_name": "Python 3 (ipykernel)",
   "language": "python",
   "name": "python3"
  },
  "language_info": {
   "codemirror_mode": {
    "name": "ipython",
    "version": 3
   },
   "file_extension": ".py",
   "mimetype": "text/x-python",
   "name": "python",
   "nbconvert_exporter": "python",
   "pygments_lexer": "ipython3",
   "version": "3.11.8"
  }
 },
 "nbformat": 4,
 "nbformat_minor": 5
}
