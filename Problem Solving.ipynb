{
 "cells": [
  {
   "cell_type": "markdown",
   "id": "e3f56886-c614-43fa-bf7b-ed83e68ee441",
   "metadata": {},
   "source": [
    "# Continuous subarray with a given sum"
   ]
  },
  {
   "cell_type": "code",
   "execution_count": 18,
   "id": "03708177-93ed-4c38-907f-e53a41f97055",
   "metadata": {},
   "outputs": [],
   "source": [
    "array = [1, 7, 4, 2, 1, 3, 11, 5]\n",
    "res = 14"
   ]
  },
  {
   "cell_type": "code",
   "execution_count": 28,
   "id": "c6fd8158-b0a7-4f9b-a80f-5ab6c75ddb88",
   "metadata": {},
   "outputs": [],
   "source": [
    "class SubArray:\n",
    "\n",
    "    def __init__(self, array, res):\n",
    "        self.array = array\n",
    "        self.res = res\n",
    "        self.first_sub_array = self._first_subarray_with_sum()\n",
    "        self.all_subarrays = self._all_subarray_with_sum()\n",
    "\n",
    "    def _first_subarray_with_sum(self):\n",
    "        array = self.array\n",
    "        res = self.res\n",
    "        found = False\n",
    "        idx = 0\n",
    "        while not found and (idx < len(array)):\n",
    "            output = 0\n",
    "            first = idx\n",
    "            for i in range(first, len(array)):\n",
    "                last = i\n",
    "                output += array[i]\n",
    "                if output == res:\n",
    "                    found = True\n",
    "                    break\n",
    "            if found:\n",
    "                break\n",
    "            idx += 1\n",
    "        return array[first:last+1]\n",
    "\n",
    "    def _all_subarray_with_sum(self):\n",
    "        array = self.array\n",
    "        res = self.res\n",
    "        subArrays = []\n",
    "        idx = 0\n",
    "        while idx < len(array):\n",
    "            output = 0\n",
    "            first = idx\n",
    "            for i in range(first, len(array)):\n",
    "                last = i\n",
    "                output += array[i]\n",
    "                if output == res:\n",
    "                    subArrays.append((first, last))\n",
    "            idx += 1\n",
    "        return [array[i:j+1] for i,j in subArrays]"
   ]
  },
  {
   "cell_type": "code",
   "execution_count": 31,
   "id": "a9c8f023-406a-4591-9f96-16a259ead493",
   "metadata": {},
   "outputs": [],
   "source": [
    "sa = SubArray(array, res)"
   ]
  },
  {
   "cell_type": "code",
   "execution_count": 32,
   "id": "39e5b5ea-43d8-4a53-ba45-f7d86d2c620e",
   "metadata": {},
   "outputs": [
    {
     "data": {
      "text/plain": [
       "[1, 7, 4, 2]"
      ]
     },
     "execution_count": 32,
     "metadata": {},
     "output_type": "execute_result"
    }
   ],
   "source": [
    "sa.first_sub_array"
   ]
  },
  {
   "cell_type": "code",
   "execution_count": 33,
   "id": "db26f3be-93ac-4c23-963a-5bafa8408e99",
   "metadata": {},
   "outputs": [
    {
     "data": {
      "text/plain": [
       "[[1, 7, 4, 2], [7, 4, 2, 1], [3, 11]]"
      ]
     },
     "execution_count": 33,
     "metadata": {},
     "output_type": "execute_result"
    }
   ],
   "source": [
    "sa.all_subarrays"
   ]
  },
  {
   "cell_type": "markdown",
   "id": "00083b2e-cadc-494c-a960-ee3d8d81f302",
   "metadata": {},
   "source": [
    "# Number of steps required to convert a string to another"
   ]
  },
  {
   "cell_type": "code",
   "execution_count": 66,
   "id": "712c640f-7316-4945-9d3e-c0324d79dcb4",
   "metadata": {},
   "outputs": [],
   "source": [
    "class StrExtend:\n",
    "\n",
    "    def __init__(self, st):\n",
    "        self.st = str(st)\n",
    "\n",
    "    def __call__(self):\n",
    "        return self.st\n",
    "\n",
    "    def insert(self, idx, st):\n",
    "        self.st = self.st[:idx] + st + self.st[idx:]\n",
    "\n",
    "    def delete(self, idx):\n",
    "        self.st = self.st[:idx] + self.st[idx+1:]\n",
    "\n",
    "    def replace(self, idx, st):\n",
    "        self.st = self.st[:idx] + st + self.st[idx+1:]\n",
    "    "
   ]
  },
  {
   "cell_type": "code",
   "execution_count": 67,
   "id": "e6cccbad-042a-47ff-8b6a-6fcc394330a7",
   "metadata": {},
   "outputs": [],
   "source": [
    "st1 = StrExtend('insertion')"
   ]
  },
  {
   "cell_type": "code",
   "execution_count": 68,
   "id": "41ac360e-3a86-488c-b034-aac85471c4a9",
   "metadata": {},
   "outputs": [
    {
     "data": {
      "text/plain": [
       "9"
      ]
     },
     "execution_count": 68,
     "metadata": {},
     "output_type": "execute_result"
    }
   ],
   "source": [
    "len(st1())"
   ]
  },
  {
   "cell_type": "code",
   "execution_count": 69,
   "id": "f276c5ab-a4e6-4c87-b0a1-710955686f8a",
   "metadata": {},
   "outputs": [],
   "source": [
    "st1.insert(1,'o')"
   ]
  },
  {
   "cell_type": "code",
   "execution_count": 70,
   "id": "f9f801cd-5217-4958-942d-811923c98386",
   "metadata": {},
   "outputs": [],
   "source": [
    "st1.insert(0,'f')"
   ]
  },
  {
   "cell_type": "code",
   "execution_count": 71,
   "id": "6fa97ca0-5997-41fe-88f6-4818fbc8b0a0",
   "metadata": {},
   "outputs": [
    {
     "data": {
      "text/plain": [
       "'fionsertion'"
      ]
     },
     "execution_count": 71,
     "metadata": {},
     "output_type": "execute_result"
    }
   ],
   "source": [
    "st1()"
   ]
  },
  {
   "cell_type": "code",
   "execution_count": 72,
   "id": "283a577f-a8d8-49d4-b88e-d8aee0c1d457",
   "metadata": {},
   "outputs": [],
   "source": [
    "st1.delete(2)"
   ]
  },
  {
   "cell_type": "code",
   "execution_count": 73,
   "id": "7361c648-cc4d-4d57-b72e-c089d11a49dc",
   "metadata": {},
   "outputs": [
    {
     "data": {
      "text/plain": [
       "'finsertion'"
      ]
     },
     "execution_count": 73,
     "metadata": {},
     "output_type": "execute_result"
    }
   ],
   "source": [
    "st1()"
   ]
  },
  {
   "cell_type": "code",
   "execution_count": 74,
   "id": "5d23dab1-7e19-4efa-b747-6150e910b093",
   "metadata": {},
   "outputs": [],
   "source": [
    "st1.replace(1, 'o')"
   ]
  },
  {
   "cell_type": "code",
   "execution_count": 75,
   "id": "3185dd32-6c4d-4685-b6ea-778fec53b3b9",
   "metadata": {},
   "outputs": [
    {
     "data": {
      "text/plain": [
       "'fonsertion'"
      ]
     },
     "execution_count": 75,
     "metadata": {},
     "output_type": "execute_result"
    }
   ],
   "source": [
    "st1()"
   ]
  },
  {
   "cell_type": "code",
   "execution_count": 79,
   "id": "bb524a94-ae89-40e3-bead-ef9271c5826f",
   "metadata": {},
   "outputs": [],
   "source": [
    "def min_steps(str1, str2, i1=0, i2=0):\n",
    "    if i1 == len(str1):\n",
    "        return len(str2) - i2\n",
    "    elif i2 == len(str2):\n",
    "        return len(str1) - i1\n",
    "    elif str1[i1] == str2[i2]:\n",
    "        return min_steps(str1, str2, i1+1, i2+1)\n",
    "    else:\n",
    "        return 1 + min(min_steps(str1, str2, i1+1, i2),\n",
    "                      min_steps(str1, str2, i1+1, i2+1),\n",
    "                      min_steps(str1, str2, i1, i2+1))"
   ]
  },
  {
   "cell_type": "code",
   "execution_count": 80,
   "id": "38724c17-b799-4e97-a9c6-5906565b0586",
   "metadata": {},
   "outputs": [],
   "source": [
    "st1 = 'intention'\n",
    "st2 = 'exception'"
   ]
  },
  {
   "cell_type": "code",
   "execution_count": 82,
   "id": "8cb712f9-9e46-434f-b56c-f07a6965cb83",
   "metadata": {},
   "outputs": [
    {
     "data": {
      "text/plain": [
       "4"
      ]
     },
     "execution_count": 82,
     "metadata": {},
     "output_type": "execute_result"
    }
   ],
   "source": [
    "min_steps(st1, st2)"
   ]
  },
  {
   "cell_type": "code",
   "execution_count": 87,
   "id": "876855c5-b918-4a14-8ca4-e1ce2da9870d",
   "metadata": {},
   "outputs": [],
   "source": [
    "def min_steps_memoization(str1, str2):\n",
    "    memo = {}\n",
    "    def recurse(i1, i2):\n",
    "        key = i1, i2\n",
    "        if key in memo:\n",
    "            return memo[key]\n",
    "        elif i1 == len(str1):\n",
    "            memo[key] = len(str2) - i2\n",
    "        elif i2 == len(str2):\n",
    "            memo[key] = len(str1) - i1\n",
    "        elif str1[i1] == str2[i2]:\n",
    "            memo[key] = recurse(i1+1, i2+1)\n",
    "        else:\n",
    "            memo[key] = 1 + min(recurse(i1+1, i2),\n",
    "                               recurse(i1+1, i2+1),\n",
    "                               recurse(i1, i2+1))\n",
    "        return memo[key]\n",
    "    return recurse(0, 0)"
   ]
  },
  {
   "cell_type": "code",
   "execution_count": 88,
   "id": "443ff496-ef79-4cff-be9d-6e251500aa9c",
   "metadata": {},
   "outputs": [
    {
     "data": {
      "text/plain": [
       "4"
      ]
     },
     "execution_count": 88,
     "metadata": {},
     "output_type": "execute_result"
    }
   ],
   "source": [
    "min_steps_memoization(st1, st2)"
   ]
  },
  {
   "cell_type": "code",
   "execution_count": null,
   "id": "e7d7f7e3-efbd-4b9a-99aa-b668bbadaaa3",
   "metadata": {},
   "outputs": [],
   "source": []
  }
 ],
 "metadata": {
  "kernelspec": {
   "display_name": "Python 3 (ipykernel)",
   "language": "python",
   "name": "python3"
  },
  "language_info": {
   "codemirror_mode": {
    "name": "ipython",
    "version": 3
   },
   "file_extension": ".py",
   "mimetype": "text/x-python",
   "name": "python",
   "nbconvert_exporter": "python",
   "pygments_lexer": "ipython3",
   "version": "3.11.8"
  }
 },
 "nbformat": 4,
 "nbformat_minor": 5
}
